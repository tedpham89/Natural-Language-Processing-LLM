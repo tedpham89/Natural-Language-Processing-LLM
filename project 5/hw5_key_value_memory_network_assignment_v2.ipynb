{
 "cells": [
  {
   "cell_type": "markdown",
   "metadata": {
    "id": "3M1CFw-VT5vI"
   },
   "source": [
    "#Preamble\n",
    "\n",
    "This mini-project involves working through all the steps of a problem, whereas prior assignments asked you to just implement core functions. We will give you a dataset, but you will also have the opportunity to manipulate the data in ways that you find beneficial to the overall project and to explain why and how those manipulations mattered. This will be in addition to building the model from scratch, developing the training loop, and implementing testing. The code will be accompanied by a report written into the notebook.\n",
    "\n",
    "This project will have you working with attention mechanism, in a new type of system for question-answering. This will provide you with experience working with attention mechanisms while not directly working with transformers.\n",
    "\n",
    "This assignment is not autograded. You can modify any code cells as long as you achieve the requirements of each graded component."
   ]
  },
  {
   "cell_type": "markdown",
   "metadata": {
    "id": "yhZzhjGaTj9P"
   },
   "source": [
    "# Introduction\n",
    "\n",
    "Memory networks learn to access external memory stores (a database or, in the case of this assignment, a dictionary). Key-Value Memory Networks specifically assume that the external memory store is organized as a dictionary with keys and values. In theory memory networks are useful when one wants a neural network to be able to know a lot of information but we don't want to try to encode that information directly into the parameters of the network. This means information can be changed in the external memory database without retraining the neural network.\n",
    "\n",
    "Given a question, e.g., \"Where was Alexander Hamilton born?\", a key-value memory network learns an embedding such that the question has a high cosine similarity to a particular key in the external dictionary. Because there are many keys that need to be matched against, key-value memory networks implement an attention-scoring mechanism to select a key. Because attention is a probabilistic score, the key-value memory network retrieves a sum of embeddings weighted according to the attention score. This weighted embedding is then compared to values using a second attention-scoring mechanism. The value with the highest cosine similarity can then be retrieved and returned as the answer.\n",
    "\n",
    "Memory networks were an important part of the evolution of question-answering systems that have been eclipsed by transformers. However, the attention mechanism in a key-value memory network is very similar to the self-attention inside a transformer, so implementing a key-value memory network is a really great way to experiment and learn about self-attention without the added complexity of transformers.\n",
    "\n",
    "Key-value memory networks are also closely related to retieval-based generation networks, except we will be retrieving facts from a dictionary instead of via the internet. However, the embedding of retrieved data will be similar.\n",
    "\n",
    "Key-value memory networks are described in this [paper](https://arxiv.org/abs/1606.03126). It is recommended that you read the paper, but we will also walk through the steps you will need to complete."
   ]
  },
  {
   "cell_type": "markdown",
   "metadata": {
    "id": "XLQP14bxNXDx"
   },
   "source": [
    "# Some imports\n",
    "\n"
   ]
  },
  {
   "cell_type": "markdown",
   "metadata": {
    "id": "FAe6-NtARNjW"
   },
   "source": [
    "You may add imports as necessary."
   ]
  },
  {
   "cell_type": "code",
   "execution_count": 339,
   "metadata": {
    "id": "JfnqkHKkITC3"
   },
   "outputs": [],
   "source": [
    "import torch\n",
    "import torch.nn as nn\n",
    "from torch import optim\n",
    "import torch.nn.functional as F\n",
    "import re\n",
    "import os\n",
    "import json\n",
    "import random\n",
    "import numpy as np\n",
    "import pickle\n",
    "from tqdm import tqdm\n",
    "import nltk\n",
    "from nltk.corpus import stopwords\n",
    "import matplotlib.pyplot as plt"
   ]
  },
  {
   "cell_type": "code",
   "execution_count": 340,
   "metadata": {
    "id": "AviW7dfn6pUi"
   },
   "outputs": [
    {
     "data": {
      "text/plain": [
       "'cuda'"
      ]
     },
     "execution_count": 340,
     "metadata": {},
     "output_type": "execute_result"
    }
   ],
   "source": [
    "device = 'cuda' if torch.cuda.is_available() else 'cpu'\n",
    "device"
   ]
  },
  {
   "cell_type": "markdown",
   "metadata": {
    "id": "fQM96JBsVHwF"
   },
   "source": [
    "Unidecode is useful for getting rid of issues that arise from unicode. This should not be used if we care about unicode, but for the purposes of an instructional exercise, it eliminates a lot of edge cases that come up with unicode."
   ]
  },
  {
   "cell_type": "code",
   "execution_count": 341,
   "metadata": {
    "id": "EYuVdhWfAcGQ"
   },
   "outputs": [
    {
     "name": "stdout",
     "output_type": "stream",
     "text": [
      "Requirement already satisfied: unidecode in c:\\users\\trung\\miniconda3\\envs\\cs7650_hw\\lib\\site-packages (1.4.0)\n"
     ]
    }
   ],
   "source": [
    "!pip install unidecode"
   ]
  },
  {
   "cell_type": "code",
   "execution_count": 342,
   "metadata": {
    "id": "3E_fVmV2_8ub"
   },
   "outputs": [],
   "source": [
    "import unidecode"
   ]
  },
  {
   "cell_type": "markdown",
   "metadata": {
    "id": "p_bDmt5iSD_j"
   },
   "source": [
    "If you need to have a reduced vocabulary, you can create an unknown \"unk\" token and add it to the vocabulary. Make sure the token index in the vocabulary and `UNK_ID` match."
   ]
  },
  {
   "cell_type": "code",
   "execution_count": 343,
   "metadata": {
    "id": "DDHhoxzyAByu"
   },
   "outputs": [],
   "source": [
    "UNK = 'unk'\n",
    "UNK_ID = '0'"
   ]
  },
  {
   "cell_type": "markdown",
   "metadata": {
    "id": "Sl6J8BwVpHCw"
   },
   "source": [
    "# Some utilities"
   ]
  },
  {
   "cell_type": "markdown",
   "metadata": {
    "id": "4LVVnmlNRKTp"
   },
   "source": [
    "You may edit these as necessary."
   ]
  },
  {
   "cell_type": "markdown",
   "metadata": {
    "id": "4KF3VeFoSenc"
   },
   "source": [
    "Stem words"
   ]
  },
  {
   "cell_type": "code",
   "execution_count": 344,
   "metadata": {
    "id": "CPwG_8VrNUop"
   },
   "outputs": [],
   "source": [
    "# Stemming the text\n",
    "def simple_stemmer(text):\n",
    "    ps=nltk.porter.PorterStemmer()\n",
    "    text= [ps.stem(word) for word in text]\n",
    "    return text"
   ]
  },
  {
   "cell_type": "markdown",
   "metadata": {
    "id": "mDg9vUiDShG-"
   },
   "source": [
    "Simple tokenizer that only keeps letters and numbers."
   ]
  },
  {
   "cell_type": "code",
   "execution_count": 345,
   "metadata": {
    "id": "eEofSDrQ9fg_"
   },
   "outputs": [],
   "source": [
    "def tokenize(line):\n",
    "    line = re.sub(r'[^a-zA-Z0-9]', ' ', unidecode.unidecode(line)) # remove punctuation\n",
    "    line = line.lower().split()  # lower case\n",
    "    return line"
   ]
  },
  {
   "cell_type": "markdown",
   "metadata": {
    "id": "IH2QW9FjSrJh"
   },
   "source": [
    "A standard vocabulary object class"
   ]
  },
  {
   "cell_type": "code",
   "execution_count": 346,
   "metadata": {
    "id": "25siAXsXOJj9"
   },
   "outputs": [],
   "source": [
    "class Vocab:\n",
    "    def __init__(self, name = 'vocab'):\n",
    "        self.name = name\n",
    "        self._word2index = {}\n",
    "        self._word2count = {}\n",
    "        self._index2word = {}\n",
    "        self._n_words = 0\n",
    "\n",
    "    def get_words(self):\n",
    "      return list(self._word2count.keys())\n",
    "\n",
    "    def num_words(self):\n",
    "      return self._n_words\n",
    "\n",
    "    def word2index(self, word):\n",
    "      return self._word2index[word]\n",
    "\n",
    "    def index2word(self, word):\n",
    "      return self._index2word[word]\n",
    "\n",
    "    def word2count(self, word):\n",
    "      return self._word2count[word]\n",
    "\n",
    "    def add_sentence(self, sentence):\n",
    "        for word in tokenize(sentence):\n",
    "            self.add_word(word)\n",
    "\n",
    "    def add_word(self, word):\n",
    "        if word not in self._word2index:\n",
    "            self._word2index[word] = self._n_words\n",
    "            self._word2count[word] = 1\n",
    "            self._index2word[self._n_words] = word\n",
    "            self._n_words += 1\n",
    "        else:\n",
    "            self._word2count[word] += 1"
   ]
  },
  {
   "cell_type": "markdown",
   "metadata": {
    "id": "esAT3lG1S5cV"
   },
   "source": [
    "Make a bag of words frmo a sentence, given a vocabulary. Can return a bag of word counts or a a bag of word presences."
   ]
  },
  {
   "cell_type": "code",
   "execution_count": 347,
   "metadata": {
    "id": "oKJP2y8g-TFE"
   },
   "outputs": [],
   "source": [
    "# ORIGINAL\n",
    "# def multihot(s, vocab, preserve_counts = False):\n",
    "#   tokens = np.array([vocab.word2index(t) for t in tokenize(s)])\n",
    "#   mhot = np.zeros((tokens.size, vocab.num_words()))\n",
    "#   mhot[np.arange(tokens.size), tokens] = 1\n",
    "#   if preserve_counts:\n",
    "#     return mhot.sum(0)\n",
    "#   else:\n",
    "#     return mhot.sum(0) >= 1\n",
    "\n",
    "# Recreate multihot to add UNK\n",
    "def multihot(s, vocab, preserve_counts = False):\n",
    "    # tokenize\n",
    "    tokens = tokenize(s)\n",
    "\n",
    "    # Convert to indices but replace out vocab word with unk\n",
    "    token_indices = []\n",
    "    for token in tokens:\n",
    "        if token in vocab._word2index:\n",
    "           token_indices.append(vocab._word2index[token])\n",
    "        else:         # token not in vocab\n",
    "            if UNK in vocab._word2index:\n",
    "                token_indices.append(vocab._word2index[UNK])\n",
    "\n",
    "    # Create vector\n",
    "    token_indices = np.array(token_indices)\n",
    "    # Switch to 1d just easier to understand\n",
    "    mhot = np.zeros(vocab.num_words())\n",
    "    unique_indices, counts = np.unique(token_indices, return_counts=True)\n",
    "    if preserve_counts:\n",
    "        mhot[unique_indices] = counts\n",
    "    else:\n",
    "        mhot[unique_indices] = 1\n",
    "\n",
    "    return mhot"
   ]
  },
  {
   "cell_type": "markdown",
   "metadata": {
    "id": "4w8BflMUTLW_"
   },
   "source": [
    "If you have a reduced vocabulary, use this to replace out-of-vocab words. If you use this, you may want to merge it with `multihot` above to avoid tokenizing twice."
   ]
  },
  {
   "cell_type": "code",
   "execution_count": 348,
   "metadata": {
    "id": "LfvAfjEl7Z6j"
   },
   "outputs": [],
   "source": [
    "def unkit(s, vocab):\n",
    "  return ' '.join(list(map(lambda x: UNK if x not in vocab._word2index else x, tokenize(s))))"
   ]
  },
  {
   "cell_type": "markdown",
   "metadata": {
    "id": "YHZm-bAanrrf"
   },
   "source": [
    "# Part A: Download and Process Data (0 points)"
   ]
  },
  {
   "cell_type": "markdown",
   "metadata": {
    "id": "u-L61V7tVPok"
   },
   "source": [
    "This dataset contains the information in tables that are commonly used in Wikipedia biography pages. Each person has different rows of information pertaining to their notable accomplishments and details about their life. There are a large number of types of information that can appear as rows in the biography tables, however they are relatively uniform. We call the keys of the rows \"relations\".\n",
    "\n",
    "For example [Alexander Hamilton](https://en.wikipedia.org/wiki/Alexander_Hamilton) has information about the President he worked for as Secretary of State, birth date, date of death, parents' names, etc.\n",
    "\n",
    "The code below will download the dataset and process it to create two things:\n",
    "- `DB`: a hash table that map titles of biography wikipedia articles to table information. The table information is represented as a nested hash table containing relations as keys, and associated values. For example, `DB['alexander hamilton'] = {'party': 'federalist',\n",
    " 'spouse': 'elizabeth schuyler', ...}`\n",
    "- `VOCAB`: A vocabulary object that maps words to tokens and vice versa."
   ]
  },
  {
   "cell_type": "code",
   "execution_count": 349,
   "metadata": {
    "id": "PYzcdAR2ntvm"
   },
   "outputs": [
    {
     "name": "stderr",
     "output_type": "stream",
     "text": [
      "fatal: destination path 'wikipedia-biography-dataset' already exists and is not an empty directory.\n"
     ]
    }
   ],
   "source": [
    "!git clone https://github.com/rlebret/wikipedia-biography-dataset.git"
   ]
  },
  {
   "cell_type": "code",
   "execution_count": 350,
   "metadata": {
    "id": "RZEHbtftn17L"
   },
   "outputs": [
    {
     "name": "stdout",
     "output_type": "stream",
     "text": [
      "wikipedia-biography-dataset\\wikipedia-biography-dataset.z00\n",
      "wikipedia-biography-dataset\\wikipedia-biography-dataset.z01\n",
      "wikipedia-biography-dataset\\wikipedia-biography-dataset.z02\n",
      "wikipedia-biography-dataset\\wikipedia-biography-dataset.z03\n",
      "wikipedia-biography-dataset\\wikipedia-biography-dataset.z04\n",
      "wikipedia-biography-dataset\\wikipedia-biography-dataset.z05\n",
      "wikipedia-biography-dataset\\wikipedia-biography-dataset.z06\n",
      "wikipedia-biography-dataset\\wikipedia-biography-dataset.z07\n",
      "wikipedia-biography-dataset\\wikipedia-biography-dataset.z08\n",
      "wikipedia-biography-dataset\\wikipedia-biography-dataset.z09\n",
      "wikipedia-biography-dataset\\wikipedia-biography-dataset.z10\n",
      "wikipedia-biography-dataset\\wikipedia-biography-dataset.z11\n",
      "wikipedia-biography-dataset\\wikipedia-biography-dataset.z12\n",
      "wikipedia-biography-dataset\\wikipedia-biography-dataset.z13\n",
      "wikipedia-biography-dataset\\wikipedia-biography-dataset.z14\n",
      "wikipedia-biography-dataset\\wikipedia-biography-dataset.z15\n",
      "        1 file(s) copied.\n",
      " Volume in drive C has no label.\n",
      " Volume Serial Number is 58B5-434B\n",
      "\n",
      " Directory of c:\\Users\\trung\\Documents\\CS7650 NLP\\hw5-student\n",
      "\n",
      "07/27/2025  12:27 AM       333,998,704 tmp.zip\n",
      "               1 File(s)    333,998,704 bytes\n",
      "               0 Dir(s)  570,678,194,176 bytes free\n",
      "Extraction complete!\n"
     ]
    }
   ],
   "source": [
    "!copy /b wikipedia-biography-dataset\\wikipedia-biography-dataset.z* tmp.zip\n",
    "!dir tmp.zip\n",
    "import zipfile\n",
    "with zipfile.ZipFile('tmp.zip', 'r') as zip_ref:\n",
    "    zip_ref.extractall('.')  \n",
    "print(\"Extraction complete!\")"
   ]
  },
  {
   "cell_type": "markdown",
   "metadata": {
    "id": "1rRYqmfSTcw0"
   },
   "source": [
    "Get all the wikipedia titles."
   ]
  },
  {
   "cell_type": "code",
   "execution_count": 351,
   "metadata": {
    "id": "mdVrlCf-4TAq"
   },
   "outputs": [
    {
     "name": "stdout",
     "output_type": "stream",
     "text": [
      "582659\n"
     ]
    }
   ],
   "source": [
    "train_titles = []\n",
    "with open(\"wikipedia-biography-dataset/train/train.title\", \"r\", encoding=\"utf-8\") as file:\n",
    "  for line in file:\n",
    "    train_titles.append(line.rstrip())\n",
    "print(len(train_titles))"
   ]
  },
  {
   "cell_type": "markdown",
   "metadata": {
    "id": "YOkCic0NTeuS"
   },
   "source": [
    "Boxes contain all the information, with each line corresponding to a title in `titles`."
   ]
  },
  {
   "cell_type": "code",
   "execution_count": 352,
   "metadata": {
    "id": "C80pu63x4o-Y"
   },
   "outputs": [
    {
     "name": "stdout",
     "output_type": "stream",
     "text": [
      "582659\n"
     ]
    }
   ],
   "source": [
    "train_boxes = []\n",
    "with open(\"wikipedia-biography-dataset/train/train.box\", \"r\") as file:\n",
    "  for line in file:\n",
    "    train_boxes.append(line.rstrip())\n",
    "print(len(train_boxes))"
   ]
  },
  {
   "cell_type": "markdown",
   "metadata": {
    "id": "63cxS1DWTk0h"
   },
   "source": [
    "This will make the DB object, a dictionary of dictionaries for each wikipedia title, which is more or less the same as names. This function only keeps politicians (containing the \"office\" key term) and strips out information about images. It can be improved in many ways."
   ]
  },
  {
   "cell_type": "code",
   "execution_count": 353,
   "metadata": {
    "id": "Pr97KJLc4v7v"
   },
   "outputs": [],
   "source": [
    "# Make a dictionary of dictionaries\n",
    "def make_db(titles, boxes):\n",
    "  db = {} # The DB\n",
    "  # Iterate through titles\n",
    "  for i in tqdm(range(len(titles))):\n",
    "    box = boxes[i] # Grab the corresponding box information\n",
    "    d  = {} # Inner dictionary\n",
    "    # Build a dict for the ith entry\n",
    "    # grab each key:value pair\n",
    "    for pair in re.findall(r'([a-zA-Z_]+)[0-9]*\\:([\\w\\d]+)', box):\n",
    "      key, value = pair\n",
    "      # Do a bit of cleaning\n",
    "      key = key.strip()\n",
    "      value = value.strip()\n",
    "      # If the key contains the word image, we probably don't want to keep it\n",
    "      if 'image' not in key:\n",
    "        # The regex maintains underscores, strip those off\n",
    "        if key[-1] == '_':\n",
    "          key = key[:-1]\n",
    "        # Make a new entry in inner dictionary if we don't have one\n",
    "        if key not in d:\n",
    "          d[key] = value\n",
    "        # Keys with compound values are split up, which is annoying, so put them back together\n",
    "        else:\n",
    "          d[key] += ' ' + value\n",
    "    # If it has an office key, keep it.\n",
    "    if 'office' in d:\n",
    "      db[titles[i]] = d\n",
    "  return db"
   ]
  },
  {
   "cell_type": "markdown",
   "metadata": {
    "id": "S9hB1o63U45e"
   },
   "source": [
    "Build the vocab from the DB. Convert the whole thing into a string, tokenize it, and feed the surviving words into the vocab."
   ]
  },
  {
   "cell_type": "code",
   "execution_count": 354,
   "metadata": {
    "id": "p13O5dcVvdZu"
   },
   "outputs": [],
   "source": [
    "def make_vocab(DB):\n",
    "  # Make the vocab object\n",
    "  vocab = Vocab()\n",
    "  # Tokenize the data by converting the entire DB into a string\n",
    "  tokens = tokenize(str(DB))\n",
    "  # Iterate through all the tokens (tqdm provides a progress bar)\n",
    "  for t in tqdm(tokens):\n",
    "    vocab.add_word(t)\n",
    "  print(\"make vocab \",vocab.num_words())\n",
    "  return vocab"
   ]
  },
  {
   "cell_type": "markdown",
   "metadata": {
    "id": "Zkjf7mbAVA9H"
   },
   "source": [
    "If you want to discard rare words, this will rebuild the vocab. This is just an example."
   ]
  },
  {
   "cell_type": "code",
   "execution_count": 355,
   "metadata": {
    "id": "448Ww-BFtBL3"
   },
   "outputs": [],
   "source": [
    "def reduce_vocab(vocab, min_word_occurrence = 2):\n",
    "  # make a new vocab\n",
    "  vocab2 = Vocab(\"top\")\n",
    "  # Add the UNK token\n",
    "  vocab2.add_word(UNK)\n",
    "  # Iterate through vocabulary\n",
    "  for w in list(vocab._word2count.keys()):\n",
    "    count = vocab._word2count[w]\n",
    "    idx = vocab._word2index[w]\n",
    "    # If the word count passes threshold, add it to the new vocabulary object\n",
    "    if count >= min_word_occurrence:\n",
    "      vocab2.add_word(w)\n",
    "      vocab2._word2count[w] = count\n",
    "  # Return the new vocabulary object\n",
    "  return vocab2"
   ]
  },
  {
   "cell_type": "markdown",
   "metadata": {
    "id": "iVS602YPVE9N"
   },
   "source": [
    "Make the DB"
   ]
  },
  {
   "cell_type": "code",
   "execution_count": 356,
   "metadata": {
    "id": "cio_ZwncrGf0"
   },
   "outputs": [
    {
     "name": "stderr",
     "output_type": "stream",
     "text": [
      "100%|██████████| 582659/582659 [00:32<00:00, 18166.59it/s]\n"
     ]
    }
   ],
   "source": [
    "DB = make_db(train_titles, train_boxes)"
   ]
  },
  {
   "cell_type": "markdown",
   "metadata": {
    "id": "ETLqtWtyVKLE"
   },
   "source": [
    "Make the VOCAB"
   ]
  },
  {
   "cell_type": "code",
   "execution_count": 378,
   "metadata": {
    "id": "lc7oi3p54SOb"
   },
   "outputs": [
    {
     "name": "stderr",
     "output_type": "stream",
     "text": [
      "100%|██████████| 2997937/2997937 [00:01<00:00, 2099087.99it/s]"
     ]
    },
    {
     "name": "stdout",
     "output_type": "stream",
     "text": [
      "make vocab  96093\n",
      "96093\n",
      "Original vocab size  96093\n",
      "Reduced vocab size  47085\n"
     ]
    },
    {
     "name": "stderr",
     "output_type": "stream",
     "text": [
      "\n"
     ]
    }
   ],
   "source": [
    "VOCAB = make_vocab(DB)\n",
    "print(VOCAB.num_words())\n",
    "\n",
    "# Modify to reduce vocab.\n",
    "reduced_vocab = reduce_vocab(VOCAB, min_word_occurrence = 3)\n",
    "print(\"Original vocab size \",VOCAB.num_words())\n",
    "print(\"Reduced vocab size \", reduced_vocab.num_words())\n",
    "\n",
    "VOCAB = reduced_vocab"
   ]
  },
  {
   "cell_type": "markdown",
   "metadata": {
    "id": "Y9AP3Dcle5VC"
   },
   "source": [
    "## Save Processed Data"
   ]
  },
  {
   "cell_type": "markdown",
   "metadata": {
    "id": "QiTQxguSXEuq"
   },
   "source": [
    "You may find it useful to save the processed dataset to your Google Drive.\n",
    "\n",
    "It is recommended that you save the file to your Google Drive. To mount your Google Drive, open the file icon on the left side of the screen to get to the option). To save the file in your Google Drive use the path `'drive/MyDrive/filename'`.)"
   ]
  },
  {
   "cell_type": "code",
   "execution_count": 379,
   "metadata": {
    "id": "6DNxueU-gpz_"
   },
   "outputs": [],
   "source": [
    "# from google.colab import drive\n",
    "# drive.mount('/content/drive')"
   ]
  },
  {
   "cell_type": "code",
   "execution_count": 380,
   "metadata": {
    "id": "DwagcDU_Ut2Q"
   },
   "outputs": [],
   "source": [
    "# with open(\"drive/MyDrive/data\", \"wb\") as f:\n",
    "#   pickle.dump(DB, f, protocol=None, fix_imports=True, buffer_callback=None)"
   ]
  },
  {
   "cell_type": "code",
   "execution_count": 381,
   "metadata": {
    "id": "WS6a8EtX_h0F"
   },
   "outputs": [],
   "source": [
    "# with open('drive/MyDrive/vocab', 'wb') as f:\n",
    "#     pickle.dump(VOCAB, f, protocol=None, fix_imports=True, buffer_callback=None)"
   ]
  },
  {
   "cell_type": "code",
   "execution_count": 393,
   "metadata": {},
   "outputs": [],
   "source": [
    "os.makedirs(\"saveddata\", exist_ok=True)\n",
    "\n",
    "# Save DB\n",
    "with open(\"saveddata/DB.pkl\", \"wb\") as f:\n",
    "    pickle.dump(DB, f)\n",
    "\n",
    "# Save VOCAB\n",
    "with open(\"saveddata/VOCAB.pkl\", \"wb\") as f:\n",
    "    pickle.dump(VOCAB, f)"
   ]
  },
  {
   "cell_type": "markdown",
   "metadata": {
    "id": "lzlH6IKhe_Qa"
   },
   "source": [
    "## Load processed data"
   ]
  },
  {
   "cell_type": "markdown",
   "metadata": {
    "id": "2AlkMbibXYWg"
   },
   "source": [
    "If you have saved the processed data in your Google Drive, you can re-load it with these commands."
   ]
  },
  {
   "cell_type": "code",
   "execution_count": 394,
   "metadata": {
    "id": "ZCaiBhdvCa_C"
   },
   "outputs": [],
   "source": [
    "# with open(\"drive/MyDrive/vocab\", \"rb\") as f:\n",
    "#   VOCAB = pickle.load(f)"
   ]
  },
  {
   "cell_type": "code",
   "execution_count": 395,
   "metadata": {
    "id": "IinOyL_4C1Hx"
   },
   "outputs": [],
   "source": [
    "# with open(\"drive/MyDrive/data\", \"rb\") as f:\n",
    "#   DB = pickle.load(f)"
   ]
  },
  {
   "cell_type": "code",
   "execution_count": 396,
   "metadata": {},
   "outputs": [],
   "source": [
    "# Load VOCAB\n",
    "with open(\"saveddata/VOCAB.pkl\", \"rb\") as f:\n",
    "    VOCAB = pickle.load(f)\n",
    "\n",
    "# Load DB\n",
    "with open(\"saveddata/DB.pkl\", \"rb\") as f:\n",
    "    DB = pickle.load(f)"
   ]
  },
  {
   "cell_type": "markdown",
   "metadata": {
    "id": "vcZcFUxrfCnB"
   },
   "source": [
    "## Data example"
   ]
  },
  {
   "cell_type": "markdown",
   "metadata": {
    "id": "jKKoOuLCVYxd"
   },
   "source": [
    "Get to know your data."
   ]
  },
  {
   "cell_type": "code",
   "execution_count": 397,
   "metadata": {
    "id": "dbLkOyB2pp_M"
   },
   "outputs": [
    {
     "data": {
      "text/plain": [
       "{'name': 'alexander hamilton',\n",
       " 'office': '1st united states secretary of the treasury senior officer of the army delegate to the congress of the confederation from new york',\n",
       " 'president': 'george washington john adams',\n",
       " 'term_start': 'september 11 1789 december 14 1799 november 3 1788 november 4 1782',\n",
       " 'term_end': 'january 31 1795 june 15 1800 march 2 1789 june 21 1783',\n",
       " 'predecessor': 'position established george washington egbert benson seat established',\n",
       " 'successor': 'oliver wolcott jr james wilkinson seat abolished seat abolished',\n",
       " 'birth_date': '11 january 1755',\n",
       " 'birth_place': 'charlestown nevis british west indies',\n",
       " 'death_date': 'july 12 1804 aged 47 or 49',\n",
       " 'death_place': 'new york city new york u',\n",
       " 'party': 'federalist',\n",
       " 'spouse': 'elizabeth schuyler',\n",
       " 'children': 'philip angelica alexander james alexander john church william stephen eliza holly phil',\n",
       " 'alma_mater': 'kings college new york',\n",
       " 'religion': 'presbyterian episcopalian convert',\n",
       " 'signature': 'alexander hamilton signaturert',\n",
       " 'allegiance': 'flag_of_new_york _ 1778 svg 23px new york 1775 1777 united states 1795 23px 1777 1800',\n",
       " 'branch': 'flag_of_new_york _ 1778 svg 23px new york company of artillery united states 1777 23px continental army 25px united states army',\n",
       " 'serviceyears': '1775 1776 militia 1776 1781 1798 1800',\n",
       " 'rank': '23px',\n",
       " 'article_title': 'alexander hamilton'}"
      ]
     },
     "execution_count": 397,
     "metadata": {},
     "output_type": "execute_result"
    }
   ],
   "source": [
    "DB[\"alexander hamilton\"]"
   ]
  },
  {
   "cell_type": "markdown",
   "metadata": {
    "id": "ITACHJTWfE5m"
   },
   "source": [
    "# Part B: Implement the Key-Value Memory Network (10 points)"
   ]
  },
  {
   "cell_type": "markdown",
   "metadata": {
    "id": "xQqLE-fcI_43"
   },
   "source": [
    "This [paper](https://arxiv.org/abs/1606.03126) describes the key-value memory networks in detail, which is also sketched out below.\n",
    "\n",
    "A key-value memory network takes a natural language question. This question will be converted into a bag-of-words (i.e., a multihot) Call this $x$ and it is a 1D tensor of vocabulary length.\n",
    "\n",
    "![KVMemNet architecture](https://github.com/markriedl/kvmemnet-assignment/blob/32479dd1e88a9f8dfc72f11ccb8e9e0e1f78905f/kvmemnet-inside.png?raw=true)\n",
    "\n",
    "The KVMemNet will contain a linear layer (or embedding layer) that will produce a 1D embedding of the question $q=A(x)$.\n",
    "\n",
    "The KVMemNet will also take in a stack of keys as a tensor of shape `num_keys x vocab_size`. Each row is embedded using the same embedding, $k=A(keys)$, producing a tensor of shape `num_keys x embed_dim`. How this stack of keys is chosen will be discussed below.\n",
    "\n",
    "The KVMemNet will take in a third input, a stack of values associated with the stack of keys. This will also be of shape `num_values x vocab_size`. Each row is embedded using the same embedding, $v=A(values)$, producing a tensor of shape `num_keys x embed_dim`.\n",
    "\n",
    "The KVMemNet will also contain a second linear embedding layer, $B$. More on this later.\n",
    "\n",
    "Once we have `q`, `k`, and `v` embeddings, the next step is to use `q` and `k` to compute attention scores that can be applied against `v`. Think of $A$ as learning how to make questions and the keys that should match against values that have received the same treatment.\n",
    "\n",
    "The attention scores `p` are computed by taking the inner-product (`torch.inner()`) between `q` and `k`. The result will be a 1D tensor with `num_keys` length. Use softmax so that `p` contains scores between 1.0 and 0.0.\n",
    "\n",
    "You may be wondering why there isn't a non-linearity such as a sigmoid or ReLU after the linear layer. Softmax is a non-linearity.\n",
    "\n",
    "Next apply the `p` attention scores against `v` to apply a weight against each value in the stack of values. One should be highly weighted and the rest less weighted. Sum all the weighted values up to create a 1D tensor `o` of feature weights of length `embed_dim`. `p` can be thought of as how much of each value gets selected. Then they all get combined together and the feature weights are proportional to how much each value was attended to. The `torch.matmul()` can do the multiplication and summing in one step.\n",
    "\n",
    "The KVMemNet forward function should return this tensor of feature weights `o`.\n",
    "\n",
    "A quick note on `k` and `v`. We can't send the entire set of keys and values in our database through the network's forward function. Instead there should be a selection mechanism that selects just a subset of the database. This subset should contain the best key for the question $x$ to match against, and its corresponding value. We assume that a shallow selection process can narrow down the key-value pairs to a relatively small set, one of which will be best. For example, if the question involves \"Alexander Hamilton\", we can reasonably guess that the best key-value pair is in the part of the database associated with the named person.\n",
    "\n",
    "We are not done though. What about our linear layer $B$? Suppose variable `Y` contains our entire set of values in our databse as bags of words. $B$ is going to be used to embed our entire set of database values $y=B(Y)$. $B$ can be thought of as learning how to make all the values look like the feature weights output by the model such that the highest cosine similarity corresponds to the correct value taken from *all* values in the database.\n",
    "\n",
    "$B$ should live inside the KVMemNet object so that its parameters become trainable, but notice that we do not use $B$ in the KVMemNet's forward function. $B$ will get used to prepare the stack of all values in the database for training. It will bet used in the training loop but outside of the forward function. This is a bit unusual, but necessary to figure out the correct target (the true index of the best value to match against) for training.\n",
    "\n",
    "The above explantion only implements *single-hop* retrieval. *multi-hop* retrieval allows the results of one retrieval to inform a second (and third and so on) to get the right retrieval. This would be used in the case where the answer cannot be inferred directly from the question in a single retrieval, such as \"What was the founding date of the country that Alexander Hamilton was born in?\". To implement multi-hop retrieval, the KVMemNet will have additional linear layers $R_1...R_n$. Each $R_{i}$ will do a linear transform on `q` then attention will score and retrieve values as feature weights `o`. This will be sent to the next $R_{i+1}$ and so on until the hops are complete. This final `o` will be returned.\n",
    "\n",
    "For this assignment is is sufficient to only do *single-hop* retrieval.\n",
    "\n",
    "The above explanation does not include consideration of batching. You may want to add a batch dimension as the first dimension and input a batch as a set of questions, a set of stacks of keys, and a set of stacks of values. To do this, functions like `.inner()`, `.mm()`, and`.matmul()` will not work. Instead use `.bmm()` which handles batching correctly. You will probably need to do some `.squeeze()` and `.unsqueeze()` operations to make sure your tensors are the correct shapes.\n",
    "\n",
    "Instead of bag-of-words, one may also consider first converting each question, key, and value into a general set of embeddings such as [GLoVe](https://nlp.stanford.edu/projects/glove/). To do this one will need to consider how to combine words--convert each word into an embedding vector and then add the vectors together (or maybe average them)."
   ]
  },
  {
   "cell_type": "markdown",
   "metadata": {
    "id": "DSf1SSX7bgdE"
   },
   "source": [
    "**Complete the key-value memory net code**"
   ]
  },
  {
   "cell_type": "code",
   "execution_count": 398,
   "metadata": {
    "id": "9zex3XZzw0-l"
   },
   "outputs": [],
   "source": [
    "class KVMemNet(nn.Module):\n",
    "  def __init__(self, vocab_size, embed_dim):\n",
    "    super(KVMemNet, self).__init__()\n",
    "    self.vocab_size = vocab_size\n",
    "    self.embed_dim = embed_dim\n",
    "    \n",
    "    # Embedding layer A: shared for questions and keys\n",
    "    self.A = nn.Linear(vocab_size, embed_dim)\n",
    "    \n",
    "    # Embedding layer B: for database values (used in training loop)\n",
    "    self.B = nn.Linear(vocab_size, embed_dim)\n",
    "\n",
    "  def forward(self, x, keys, values):\n",
    "    # print(\"x shape\",x.shape)\n",
    "    # print(\"keys shape\", keys.shape)\n",
    "    # print(\"value shape\", values.shape)\n",
    "    \n",
    "    # Handle different dimensdion intead of batch_size\n",
    "    if x.dim() == 1:\n",
    "      x = x.unsqueeze(0)                  # shape (1,vocab_sz)\n",
    "      keys = keys.unsqueeze(0)            # shape (1,num_keys, vocab_size)\n",
    "      values = values.unsqueeze(0)        # shape (1, num_keys, vocab_size)\n",
    "\n",
    "    # Embedding q,k,v\n",
    "    q = self.A(x)                         # (batch_size, embed_dim)\n",
    "    k = self.A(keys)                      # (batch_size, num_keys, embed_dim)\n",
    "    v = self.A(values)                    # (batch_size, num_keys, embed_dim)\n",
    "\n",
    "    # Modify querry\n",
    "    q = q.unsqueeze(1)                    # (batch_size, 1, embed_dim)\n",
    "    # k.transpose(1,2) shape (batch_size, embed_dim, num_keys)\n",
    "    attentions_matrix = torch.bmm(q, k.transpose(1,2))             # (batch_size, 1, num_keys)\n",
    "    attention_probability = F.softmax(attentions_matrix, dim = 2)      # (batch_size, 1, num_keys)\n",
    "\n",
    "\n",
    "    output = torch.bmm(attention_probability,v)         # (batch_size, 1, embed_dim)\n",
    "    # print(\"o\",output.shape)\n",
    "    output = output.squeeze(1)                      # (batch_size, embed_dim)\n",
    "\n",
    "\n",
    "    \n",
    "    return output"
   ]
  },
  {
   "cell_type": "markdown",
   "metadata": {
    "id": "p8pshjz9hRps"
   },
   "source": [
    "\n",
    "# Synthetic Data Set\n",
    "\n",
    "This is a synthetic dataset. One way to test a model during development is to take a small piece of data and show that you can overfit a model. If you can't overfit an easily learned chunk of data, then you probably have something wrong in your code. In this case I have provided a small chunk of synthetic data that should be easy to learn.\n",
    "\n",
    "- The vocabulary is 20 word: 5 names, 5 relations, 5 question-words, 5 values\n",
    " - First 5 elements of the vocab are names (for example index 0 might be \"Hamilton\").\n",
    " - Second 5 elements of the vocab are relations (for example, \"born\", \"died\", \"occupation\").\n",
    " - Third 5 elements are random words that might be part of a query (for example, \"When was\").\n",
    " - Final 5 elements of the vocab are possible values (for example, \"1757\")\n",
    "- A \"question\" is a name (5, 1), relation (5, 1), some words (5, 1), and no values\n",
    "- The keys will all have the same name (5, 5) where each row is idential, relations (5, 5), no words, no values\n",
    "- Values will have no names, no relations, no words, and value vocab words"
   ]
  },
  {
   "cell_type": "code",
   "execution_count": 399,
   "metadata": {
    "id": "Qvuyp-g7grYw"
   },
   "outputs": [],
   "source": [
    "# Turn on a different relation on each row\n",
    "relations = torch.zeros(5, 5)\n",
    "relations.fill_diagonal_(1)\n",
    "\n",
    "# training data\n",
    "train_data = {}\n",
    "for i in range(5):\n",
    "  # Name associated with questions, keys, values\n",
    "  train_data[i] = (torch.cat([F.one_hot(torch.arange(0, 5))[i].repeat(5, 1),\n",
    "                         relations,\n",
    "                         torch.randint(0, 2, (5, 5)).float(),\n",
    "                         torch.zeros(5, 5)], dim=1),\n",
    "              torch.cat([F.one_hot(torch.arange(0, 5))[i].repeat(5, 1),\n",
    "                         relations,\n",
    "                         torch.zeros(5, 5),\n",
    "                         torch.zeros(5, 5)], dim=1),\n",
    "              torch.cat([torch.zeros(5, 5),\n",
    "                         torch.zeros(5, 5),\n",
    "                         torch.zeros(5, 5),\n",
    "                         torch.randint(0, 2, (5, 5)).float()], dim=1))\n",
    "  Y = torch.cat([v[2] for v in list(train_data.values())], dim=0).to('cuda')"
   ]
  },
  {
   "cell_type": "code",
   "execution_count": 400,
   "metadata": {},
   "outputs": [
    {
     "name": "stdout",
     "output_type": "stream",
     "text": [
      "Key: 0\n",
      "Tensor 0 shape: torch.Size([5, 20])\n",
      "Tensor 1 shape: torch.Size([5, 20])\n",
      "Tensor 2 shape: torch.Size([5, 20])\n",
      "Key: 1\n",
      "Tensor 0 shape: torch.Size([5, 20])\n",
      "Tensor 1 shape: torch.Size([5, 20])\n",
      "Tensor 2 shape: torch.Size([5, 20])\n",
      "Key: 2\n",
      "Tensor 0 shape: torch.Size([5, 20])\n",
      "Tensor 1 shape: torch.Size([5, 20])\n",
      "Tensor 2 shape: torch.Size([5, 20])\n",
      "Key: 3\n",
      "Tensor 0 shape: torch.Size([5, 20])\n",
      "Tensor 1 shape: torch.Size([5, 20])\n",
      "Tensor 2 shape: torch.Size([5, 20])\n",
      "Key: 4\n",
      "Tensor 0 shape: torch.Size([5, 20])\n",
      "Tensor 1 shape: torch.Size([5, 20])\n",
      "Tensor 2 shape: torch.Size([5, 20])\n"
     ]
    }
   ],
   "source": [
    "# VERIFY synthetic data shape\n",
    "train_data[1]\n",
    "for k, v in train_data.items():\n",
    "    print(f\"Key: {k}\")\n",
    "    for i, tensor in enumerate(v):\n",
    "        print(f\"Tensor {i} shape: {tensor.shape}\")"
   ]
  },
  {
   "cell_type": "markdown",
   "metadata": {
    "id": "G6R_xIi_TZVp"
   },
   "source": [
    "# Part C: Train on Synthetic Data (5 points)"
   ]
  },
  {
   "cell_type": "markdown",
   "metadata": {
    "id": "4slHUG5cPDtT"
   },
   "source": [
    "The following describes the steps to set up a training loop, including the training of the $B$ layer.\n",
    "\n",
    "![The KVMemNet being used in the training loop](https://github.com/markriedl/kvmemnet-assignment/blob/main/kvmemnet-outside.png?raw=true)\n",
    "\n",
    "- Create a model with the given vocabulary size and an embedding size that is equal to or smaller.\n",
    "- Loop through `N` epochs:\n",
    " - There are five names, loop through each name.\n",
    "   - Get a stack of questions, stack of keys, and stack of values from `DB_synth`.\n",
    "   - Loop through the relations. There is relation on each row of the keys and values.\n",
    "     - Get a single question, the `i`-th row in the questions pulled from `DB_synth` above.\n",
    "     - Compute the target: this is the `name*5 + i` element in `Y`.\n",
    "     - Run the singular question, stack of keys, and stack of values through the model and produce an output, which is a tensor of feature weights.\n",
    "     - Run all of `Y` through `model.B()` to get an embedded stack of values.\n",
    "     - Take the softmax of the inner product between the embedded stack of values from `Y` and the feature weight generated by the model.\n",
    "     - Compute the loss with `nn.CrossEntropyLoss`.\n",
    "     - Call `.backward()` on the loss.\n",
    "\n",
    "In addition to printing the loss (after every question or after every name in `DB_synth`) you can also print the target and the argmax of the softmax result to see if they match. Over time you should see the target and the argmax in agreement. For the purposes of this part of the project it is sufficient to test on the training set.\n",
    "\n",
    "Don't forget to move the model and the tensor to the GPU.\n",
    "\n",
    "You may want to speed up training by implementing batching. To do this, the model `forward()` needs to take tensors with an extra batching dimension as the first dimension. However, `.inner()`, `.mm()`, and `.matmul()` will not work properly. You will need to use `.bmm()` instead, which understands the first dimension is for batching. You will likely find that you need to perform some `.squeeze()` and `.unsqueeze()` operations. You can try batch-size of one, or take entire chunks (or even all synthetic data as a single, large batch). Try it different ways.\n",
    "\n",
    "Try training on the synthetic data first."
   ]
  },
  {
   "cell_type": "markdown",
   "metadata": {
    "id": "zu1CMkabZkyU"
   },
   "source": [
    "You may make as many cells as necessary. Save your notebook outputs that plot loss and show it reducing."
   ]
  },
  {
   "cell_type": "markdown",
   "metadata": {
    "id": "0MqIdFVAbqr1"
   },
   "source": [
    "**Write code blocks below that create the `KVMemNet`**"
   ]
  },
  {
   "cell_type": "code",
   "execution_count": 407,
   "metadata": {
    "id": "wxso4hXaTKSK"
   },
   "outputs": [],
   "source": [
    "# Set up your KVMemNet, move it to the GPU, setup up optimizer (e.g., Adam), and criterion.\n",
    "\n",
    "# Init parameters\n",
    "vocab_size = 20  \n",
    "embed_dim = 5   # Embedding dimension\n",
    "num_names = 5\n",
    "num_relations = 5\n",
    "\n",
    "# Create the Key-Value Memory Network\n",
    "model = KVMemNet(vocab_size, embed_dim)\n",
    "model = model.to(device)\n",
    "\n",
    "# Set up optimizer (Adam)\n",
    "optimizer = optim.Adam(model.parameters(), lr=0.0008)\n",
    "\n",
    "# Set up loss criterion - CrossEntropyLoss\n",
    "criterion = nn.CrossEntropyLoss()"
   ]
  },
  {
   "cell_type": "markdown",
   "metadata": {
    "id": "001D35pTb82K"
   },
   "source": [
    "**Write and run a training testing loop. Show that your training loop loss converges with a plot**\n",
    "\n",
    "To plot a loss curve, compute the mean loss per epoch and save it in a list:\n",
    "```\n",
    "x_axis.append(epoch_number)\n",
    "y_axis.append(mean_epoch_loss_for_this_epoch)\n",
    "plt.plot(x_axis, y_axis)\n",
    "plt.show()\n",
    "```"
   ]
  },
  {
   "cell_type": "code",
   "execution_count": 408,
   "metadata": {
    "id": "InBysHJfTTYX"
   },
   "outputs": [
    {
     "name": "stdout",
     "output_type": "stream",
     "text": [
      "Epoch  1  average loss = 3.2179 accuracy = 4.00%\n",
      "Epoch  2  average loss = 3.2159 accuracy = 4.00%\n",
      "Epoch  3  average loss = 3.2148 accuracy = 4.00%\n",
      "Epoch  4  average loss = 3.2137 accuracy = 4.00%\n",
      "Epoch  5  average loss = 3.2126 accuracy = 4.00%\n",
      "Epoch  6  average loss = 3.2114 accuracy = 4.00%\n",
      "Epoch  7  average loss = 3.2102 accuracy = 4.00%\n",
      "Epoch  8  average loss = 3.2090 accuracy = 4.00%\n",
      "Epoch  9  average loss = 3.2076 accuracy = 4.00%\n",
      "Epoch 10  average loss = 3.2062 accuracy = 4.00%\n",
      "Epoch 11  average loss = 3.2047 accuracy = 4.00%\n",
      "Epoch 12  average loss = 3.2031 accuracy = 4.00%\n",
      "Epoch 13  average loss = 3.2014 accuracy = 8.00%\n",
      "Epoch 14  average loss = 3.1995 accuracy = 8.00%\n",
      "Epoch 15  average loss = 3.1975 accuracy = 8.00%\n",
      "Epoch 16  average loss = 3.1953 accuracy = 8.00%\n",
      "Epoch 17  average loss = 3.1928 accuracy = 8.00%\n",
      "Epoch 18  average loss = 3.1901 accuracy = 8.00%\n",
      "Epoch 19  average loss = 3.1871 accuracy = 8.00%\n",
      "Epoch 20  average loss = 3.1838 accuracy = 8.00%\n",
      "Epoch 21  average loss = 3.1800 accuracy = 8.00%\n",
      "Epoch 22  average loss = 3.1758 accuracy = 8.00%\n",
      "Epoch 23  average loss = 3.1710 accuracy = 8.00%\n",
      "Epoch 24  average loss = 3.1656 accuracy = 8.00%\n",
      "Epoch 25  average loss = 3.1595 accuracy = 8.00%\n",
      "Epoch 26  average loss = 3.1526 accuracy = 8.00%\n",
      "Epoch 27  average loss = 3.1448 accuracy = 8.00%\n",
      "Epoch 28  average loss = 3.1361 accuracy = 8.00%\n",
      "Epoch 29  average loss = 3.1264 accuracy = 8.00%\n",
      "Epoch 30  average loss = 3.1155 accuracy = 12.00%\n",
      "Epoch 31  average loss = 3.1035 accuracy = 12.00%\n",
      "Epoch 32  average loss = 3.0902 accuracy = 20.00%\n",
      "Epoch 33  average loss = 3.0756 accuracy = 20.00%\n",
      "Epoch 34  average loss = 3.0596 accuracy = 24.00%\n",
      "Epoch 35  average loss = 3.0420 accuracy = 28.00%\n",
      "Epoch 36  average loss = 3.0229 accuracy = 28.00%\n",
      "Epoch 37  average loss = 3.0022 accuracy = 28.00%\n",
      "Epoch 38  average loss = 2.9798 accuracy = 28.00%\n",
      "Epoch 39  average loss = 2.9556 accuracy = 28.00%\n",
      "Epoch 40  average loss = 2.9298 accuracy = 24.00%\n",
      "Epoch 41  average loss = 2.9023 accuracy = 24.00%\n",
      "Epoch 42  average loss = 2.8732 accuracy = 24.00%\n",
      "Epoch 43  average loss = 2.8426 accuracy = 24.00%\n",
      "Epoch 44  average loss = 2.8108 accuracy = 24.00%\n",
      "Epoch 45  average loss = 2.7778 accuracy = 24.00%\n",
      "Epoch 46  average loss = 2.7440 accuracy = 24.00%\n",
      "Epoch 47  average loss = 2.7096 accuracy = 24.00%\n",
      "Epoch 48  average loss = 2.6748 accuracy = 24.00%\n",
      "Epoch 49  average loss = 2.6399 accuracy = 24.00%\n",
      "Epoch 50  average loss = 2.6051 accuracy = 28.00%\n",
      "Epoch 51  average loss = 2.5705 accuracy = 32.00%\n",
      "Epoch 52  average loss = 2.5364 accuracy = 32.00%\n",
      "Epoch 53  average loss = 2.5027 accuracy = 32.00%\n",
      "Epoch 54  average loss = 2.4697 accuracy = 32.00%\n",
      "Epoch 55  average loss = 2.4374 accuracy = 32.00%\n",
      "Epoch 56  average loss = 2.4057 accuracy = 36.00%\n",
      "Epoch 57  average loss = 2.3748 accuracy = 36.00%\n",
      "Epoch 58  average loss = 2.3446 accuracy = 36.00%\n",
      "Epoch 59  average loss = 2.3151 accuracy = 36.00%\n",
      "Epoch 60  average loss = 2.2864 accuracy = 36.00%\n",
      "Epoch 61  average loss = 2.2583 accuracy = 36.00%\n",
      "Epoch 62  average loss = 2.2309 accuracy = 36.00%\n",
      "Epoch 63  average loss = 2.2042 accuracy = 40.00%\n",
      "Epoch 64  average loss = 2.1781 accuracy = 44.00%\n",
      "Epoch 65  average loss = 2.1527 accuracy = 44.00%\n",
      "Epoch 66  average loss = 2.1279 accuracy = 44.00%\n",
      "Epoch 67  average loss = 2.1037 accuracy = 48.00%\n",
      "Epoch 68  average loss = 2.0801 accuracy = 48.00%\n",
      "Epoch 69  average loss = 2.0571 accuracy = 48.00%\n",
      "Epoch 70  average loss = 2.0346 accuracy = 48.00%\n",
      "Epoch 71  average loss = 2.0127 accuracy = 48.00%\n",
      "Epoch 72  average loss = 1.9913 accuracy = 48.00%\n",
      "Epoch 73  average loss = 1.9704 accuracy = 48.00%\n",
      "Epoch 74  average loss = 1.9501 accuracy = 48.00%\n",
      "Epoch 75  average loss = 1.9302 accuracy = 48.00%\n",
      "Epoch 76  average loss = 1.9108 accuracy = 48.00%\n",
      "Epoch 77  average loss = 1.8919 accuracy = 48.00%\n",
      "Epoch 78  average loss = 1.8734 accuracy = 48.00%\n",
      "Epoch 79  average loss = 1.8554 accuracy = 48.00%\n",
      "Epoch 80  average loss = 1.8377 accuracy = 48.00%\n",
      "Epoch 81  average loss = 1.8205 accuracy = 48.00%\n",
      "Epoch 82  average loss = 1.8036 accuracy = 48.00%\n",
      "Epoch 83  average loss = 1.7871 accuracy = 48.00%\n",
      "Epoch 84  average loss = 1.7710 accuracy = 48.00%\n",
      "Epoch 85  average loss = 1.7552 accuracy = 48.00%\n",
      "Epoch 86  average loss = 1.7398 accuracy = 48.00%\n",
      "Epoch 87  average loss = 1.7247 accuracy = 48.00%\n",
      "Epoch 88  average loss = 1.7098 accuracy = 48.00%\n",
      "Epoch 89  average loss = 1.6953 accuracy = 48.00%\n",
      "Epoch 90  average loss = 1.6811 accuracy = 48.00%\n",
      "Epoch 91  average loss = 1.6671 accuracy = 48.00%\n",
      "Epoch 92  average loss = 1.6535 accuracy = 48.00%\n",
      "Epoch 93  average loss = 1.6400 accuracy = 48.00%\n",
      "Epoch 94  average loss = 1.6269 accuracy = 52.00%\n",
      "Epoch 95  average loss = 1.6139 accuracy = 52.00%\n",
      "Epoch 96  average loss = 1.6012 accuracy = 52.00%\n",
      "Epoch 97  average loss = 1.5888 accuracy = 52.00%\n",
      "Epoch 98  average loss = 1.5765 accuracy = 52.00%\n",
      "Epoch 99  average loss = 1.5645 accuracy = 52.00%\n",
      "Epoch 100  average loss = 1.5527 accuracy = 52.00%\n",
      "Epoch 101  average loss = 1.5410 accuracy = 52.00%\n",
      "Epoch 102  average loss = 1.5296 accuracy = 52.00%\n",
      "Epoch 103  average loss = 1.5184 accuracy = 52.00%\n",
      "Epoch 104  average loss = 1.5073 accuracy = 52.00%\n",
      "Epoch 105  average loss = 1.4965 accuracy = 52.00%\n",
      "Epoch 106  average loss = 1.4858 accuracy = 52.00%\n",
      "Epoch 107  average loss = 1.4752 accuracy = 52.00%\n",
      "Epoch 108  average loss = 1.4649 accuracy = 52.00%\n",
      "Epoch 109  average loss = 1.4547 accuracy = 52.00%\n",
      "Epoch 110  average loss = 1.4446 accuracy = 52.00%\n",
      "Epoch 111  average loss = 1.4347 accuracy = 52.00%\n",
      "Epoch 112  average loss = 1.4250 accuracy = 52.00%\n",
      "Epoch 113  average loss = 1.4154 accuracy = 52.00%\n",
      "Epoch 114  average loss = 1.4059 accuracy = 52.00%\n",
      "Epoch 115  average loss = 1.3966 accuracy = 52.00%\n",
      "Epoch 116  average loss = 1.3874 accuracy = 52.00%\n",
      "Epoch 117  average loss = 1.3783 accuracy = 52.00%\n",
      "Epoch 118  average loss = 1.3693 accuracy = 52.00%\n",
      "Epoch 119  average loss = 1.3605 accuracy = 52.00%\n",
      "Epoch 120  average loss = 1.3518 accuracy = 52.00%\n",
      "Epoch 121  average loss = 1.3432 accuracy = 52.00%\n",
      "Epoch 122  average loss = 1.3347 accuracy = 52.00%\n",
      "Epoch 123  average loss = 1.3263 accuracy = 52.00%\n",
      "Epoch 124  average loss = 1.3180 accuracy = 52.00%\n",
      "Epoch 125  average loss = 1.3098 accuracy = 52.00%\n",
      "Epoch 126  average loss = 1.3017 accuracy = 52.00%\n",
      "Epoch 127  average loss = 1.2937 accuracy = 52.00%\n",
      "Epoch 128  average loss = 1.2858 accuracy = 52.00%\n",
      "Epoch 129  average loss = 1.2780 accuracy = 52.00%\n",
      "Epoch 130  average loss = 1.2702 accuracy = 52.00%\n",
      "Epoch 131  average loss = 1.2626 accuracy = 56.00%\n",
      "Epoch 132  average loss = 1.2550 accuracy = 56.00%\n",
      "Epoch 133  average loss = 1.2475 accuracy = 56.00%\n",
      "Epoch 134  average loss = 1.2400 accuracy = 56.00%\n",
      "Epoch 135  average loss = 1.2327 accuracy = 56.00%\n",
      "Epoch 136  average loss = 1.2254 accuracy = 56.00%\n",
      "Epoch 137  average loss = 1.2182 accuracy = 56.00%\n",
      "Epoch 138  average loss = 1.2110 accuracy = 56.00%\n",
      "Epoch 139  average loss = 1.2039 accuracy = 56.00%\n",
      "Epoch 140  average loss = 1.1969 accuracy = 56.00%\n",
      "Epoch 141  average loss = 1.1900 accuracy = 56.00%\n",
      "Epoch 142  average loss = 1.1830 accuracy = 56.00%\n",
      "Epoch 143  average loss = 1.1762 accuracy = 56.00%\n",
      "Epoch 144  average loss = 1.1694 accuracy = 56.00%\n",
      "Epoch 145  average loss = 1.1627 accuracy = 56.00%\n",
      "Epoch 146  average loss = 1.1560 accuracy = 56.00%\n",
      "Epoch 147  average loss = 1.1493 accuracy = 56.00%\n",
      "Epoch 148  average loss = 1.1427 accuracy = 60.00%\n",
      "Epoch 149  average loss = 1.1362 accuracy = 60.00%\n",
      "Epoch 150  average loss = 1.1297 accuracy = 60.00%\n",
      "Epoch 151  average loss = 1.1232 accuracy = 60.00%\n",
      "Epoch 152  average loss = 1.1168 accuracy = 60.00%\n",
      "Epoch 153  average loss = 1.1105 accuracy = 60.00%\n",
      "Epoch 154  average loss = 1.1041 accuracy = 60.00%\n",
      "Epoch 155  average loss = 1.0978 accuracy = 60.00%\n",
      "Epoch 156  average loss = 1.0916 accuracy = 60.00%\n",
      "Epoch 157  average loss = 1.0854 accuracy = 60.00%\n",
      "Epoch 158  average loss = 1.0792 accuracy = 60.00%\n",
      "Epoch 159  average loss = 1.0730 accuracy = 64.00%\n",
      "Epoch 160  average loss = 1.0669 accuracy = 64.00%\n",
      "Epoch 161  average loss = 1.0608 accuracy = 64.00%\n",
      "Epoch 162  average loss = 1.0548 accuracy = 64.00%\n",
      "Epoch 163  average loss = 1.0488 accuracy = 64.00%\n",
      "Epoch 164  average loss = 1.0428 accuracy = 64.00%\n",
      "Epoch 165  average loss = 1.0368 accuracy = 64.00%\n",
      "Epoch 166  average loss = 1.0309 accuracy = 64.00%\n",
      "Epoch 167  average loss = 1.0250 accuracy = 64.00%\n",
      "Epoch 168  average loss = 1.0191 accuracy = 64.00%\n",
      "Epoch 169  average loss = 1.0133 accuracy = 64.00%\n",
      "Epoch 170  average loss = 1.0074 accuracy = 64.00%\n",
      "Epoch 171  average loss = 1.0016 accuracy = 64.00%\n",
      "Epoch 172  average loss = 0.9959 accuracy = 64.00%\n",
      "Epoch 173  average loss = 0.9901 accuracy = 64.00%\n",
      "Epoch 174  average loss = 0.9844 accuracy = 64.00%\n",
      "Epoch 175  average loss = 0.9787 accuracy = 64.00%\n",
      "Epoch 176  average loss = 0.9731 accuracy = 64.00%\n",
      "Epoch 177  average loss = 0.9674 accuracy = 64.00%\n",
      "Epoch 178  average loss = 0.9618 accuracy = 64.00%\n",
      "Epoch 179  average loss = 0.9562 accuracy = 64.00%\n",
      "Epoch 180  average loss = 0.9506 accuracy = 64.00%\n",
      "Epoch 181  average loss = 0.9451 accuracy = 64.00%\n",
      "Epoch 182  average loss = 0.9396 accuracy = 64.00%\n",
      "Epoch 183  average loss = 0.9341 accuracy = 64.00%\n",
      "Epoch 184  average loss = 0.9286 accuracy = 64.00%\n",
      "Epoch 185  average loss = 0.9232 accuracy = 68.00%\n",
      "Epoch 186  average loss = 0.9178 accuracy = 68.00%\n",
      "Epoch 187  average loss = 0.9124 accuracy = 68.00%\n",
      "Epoch 188  average loss = 0.9070 accuracy = 68.00%\n",
      "Epoch 189  average loss = 0.9017 accuracy = 68.00%\n",
      "Epoch 190  average loss = 0.8964 accuracy = 68.00%\n",
      "Epoch 191  average loss = 0.8911 accuracy = 68.00%\n",
      "Epoch 192  average loss = 0.8859 accuracy = 68.00%\n",
      "Epoch 193  average loss = 0.8807 accuracy = 68.00%\n",
      "Epoch 194  average loss = 0.8755 accuracy = 68.00%\n",
      "Epoch 195  average loss = 0.8704 accuracy = 68.00%\n",
      "Epoch 196  average loss = 0.8653 accuracy = 68.00%\n",
      "Epoch 197  average loss = 0.8602 accuracy = 68.00%\n",
      "Epoch 198  average loss = 0.8551 accuracy = 68.00%\n",
      "Epoch 199  average loss = 0.8501 accuracy = 68.00%\n",
      "Epoch 200  average loss = 0.8451 accuracy = 68.00%\n",
      "Epoch 201  average loss = 0.8402 accuracy = 68.00%\n",
      "Epoch 202  average loss = 0.8353 accuracy = 68.00%\n",
      "Epoch 203  average loss = 0.8304 accuracy = 68.00%\n",
      "Epoch 204  average loss = 0.8256 accuracy = 68.00%\n",
      "Epoch 205  average loss = 0.8208 accuracy = 68.00%\n",
      "Epoch 206  average loss = 0.8160 accuracy = 68.00%\n",
      "Epoch 207  average loss = 0.8113 accuracy = 68.00%\n",
      "Epoch 208  average loss = 0.8066 accuracy = 68.00%\n",
      "Epoch 209  average loss = 0.8019 accuracy = 68.00%\n",
      "Epoch 210  average loss = 0.7973 accuracy = 68.00%\n",
      "Epoch 211  average loss = 0.7928 accuracy = 68.00%\n",
      "Epoch 212  average loss = 0.7882 accuracy = 68.00%\n",
      "Epoch 213  average loss = 0.7837 accuracy = 68.00%\n",
      "Epoch 214  average loss = 0.7793 accuracy = 68.00%\n",
      "Epoch 215  average loss = 0.7749 accuracy = 68.00%\n",
      "Epoch 216  average loss = 0.7705 accuracy = 68.00%\n",
      "Epoch 217  average loss = 0.7662 accuracy = 72.00%\n",
      "Epoch 218  average loss = 0.7619 accuracy = 72.00%\n",
      "Epoch 219  average loss = 0.7577 accuracy = 72.00%\n",
      "Epoch 220  average loss = 0.7535 accuracy = 72.00%\n",
      "Epoch 221  average loss = 0.7493 accuracy = 72.00%\n",
      "Epoch 222  average loss = 0.7452 accuracy = 72.00%\n",
      "Epoch 223  average loss = 0.7411 accuracy = 72.00%\n",
      "Epoch 224  average loss = 0.7371 accuracy = 72.00%\n",
      "Epoch 225  average loss = 0.7331 accuracy = 72.00%\n",
      "Epoch 226  average loss = 0.7291 accuracy = 72.00%\n",
      "Epoch 227  average loss = 0.7252 accuracy = 72.00%\n",
      "Epoch 228  average loss = 0.7214 accuracy = 72.00%\n",
      "Epoch 229  average loss = 0.7176 accuracy = 72.00%\n",
      "Epoch 230  average loss = 0.7138 accuracy = 72.00%\n",
      "Epoch 231  average loss = 0.7101 accuracy = 72.00%\n",
      "Epoch 232  average loss = 0.7064 accuracy = 72.00%\n",
      "Epoch 233  average loss = 0.7027 accuracy = 72.00%\n",
      "Epoch 234  average loss = 0.6991 accuracy = 72.00%\n",
      "Epoch 235  average loss = 0.6955 accuracy = 72.00%\n",
      "Epoch 236  average loss = 0.6920 accuracy = 72.00%\n",
      "Epoch 237  average loss = 0.6885 accuracy = 72.00%\n",
      "Epoch 238  average loss = 0.6851 accuracy = 72.00%\n",
      "Epoch 239  average loss = 0.6817 accuracy = 72.00%\n",
      "Epoch 240  average loss = 0.6784 accuracy = 72.00%\n",
      "Epoch 241  average loss = 0.6751 accuracy = 72.00%\n",
      "Epoch 242  average loss = 0.6718 accuracy = 72.00%\n",
      "Epoch 243  average loss = 0.6685 accuracy = 72.00%\n",
      "Epoch 244  average loss = 0.6654 accuracy = 72.00%\n",
      "Epoch 245  average loss = 0.6622 accuracy = 72.00%\n",
      "Epoch 246  average loss = 0.6591 accuracy = 72.00%\n",
      "Epoch 247  average loss = 0.6560 accuracy = 72.00%\n",
      "Epoch 248  average loss = 0.6530 accuracy = 72.00%\n",
      "Epoch 249  average loss = 0.6500 accuracy = 72.00%\n",
      "Epoch 250  average loss = 0.6470 accuracy = 72.00%\n",
      "Epoch 251  average loss = 0.6441 accuracy = 72.00%\n",
      "Epoch 252  average loss = 0.6412 accuracy = 72.00%\n",
      "Epoch 253  average loss = 0.6384 accuracy = 72.00%\n",
      "Epoch 254  average loss = 0.6356 accuracy = 72.00%\n",
      "Epoch 255  average loss = 0.6328 accuracy = 72.00%\n",
      "Epoch 256  average loss = 0.6301 accuracy = 72.00%\n",
      "Epoch 257  average loss = 0.6274 accuracy = 72.00%\n",
      "Epoch 258  average loss = 0.6248 accuracy = 72.00%\n",
      "Epoch 259  average loss = 0.6221 accuracy = 72.00%\n",
      "Epoch 260  average loss = 0.6195 accuracy = 72.00%\n",
      "Epoch 261  average loss = 0.6170 accuracy = 72.00%\n",
      "Epoch 262  average loss = 0.6145 accuracy = 72.00%\n",
      "Epoch 263  average loss = 0.6120 accuracy = 72.00%\n",
      "Epoch 264  average loss = 0.6095 accuracy = 72.00%\n",
      "Epoch 265  average loss = 0.6071 accuracy = 72.00%\n",
      "Epoch 266  average loss = 0.6047 accuracy = 72.00%\n",
      "Epoch 267  average loss = 0.6024 accuracy = 72.00%\n",
      "Epoch 268  average loss = 0.6001 accuracy = 72.00%\n",
      "Epoch 269  average loss = 0.5978 accuracy = 72.00%\n",
      "Epoch 270  average loss = 0.5955 accuracy = 72.00%\n",
      "Epoch 271  average loss = 0.5933 accuracy = 72.00%\n",
      "Epoch 272  average loss = 0.5911 accuracy = 72.00%\n",
      "Epoch 273  average loss = 0.5889 accuracy = 72.00%\n",
      "Epoch 274  average loss = 0.5868 accuracy = 72.00%\n",
      "Epoch 275  average loss = 0.5847 accuracy = 72.00%\n",
      "Epoch 276  average loss = 0.5826 accuracy = 72.00%\n",
      "Epoch 277  average loss = 0.5806 accuracy = 72.00%\n",
      "Epoch 278  average loss = 0.5786 accuracy = 72.00%\n",
      "Epoch 279  average loss = 0.5766 accuracy = 72.00%\n",
      "Epoch 280  average loss = 0.5746 accuracy = 72.00%\n",
      "Epoch 281  average loss = 0.5727 accuracy = 72.00%\n",
      "Epoch 282  average loss = 0.5708 accuracy = 72.00%\n",
      "Epoch 283  average loss = 0.5689 accuracy = 72.00%\n",
      "Epoch 284  average loss = 0.5670 accuracy = 72.00%\n",
      "Epoch 285  average loss = 0.5652 accuracy = 72.00%\n",
      "Epoch 286  average loss = 0.5634 accuracy = 72.00%\n",
      "Epoch 287  average loss = 0.5616 accuracy = 72.00%\n",
      "Epoch 288  average loss = 0.5598 accuracy = 72.00%\n",
      "Epoch 289  average loss = 0.5581 accuracy = 72.00%\n",
      "Epoch 290  average loss = 0.5564 accuracy = 72.00%\n",
      "Epoch 291  average loss = 0.5547 accuracy = 72.00%\n",
      "Epoch 292  average loss = 0.5531 accuracy = 72.00%\n",
      "Epoch 293  average loss = 0.5514 accuracy = 72.00%\n",
      "Epoch 294  average loss = 0.5498 accuracy = 72.00%\n",
      "Epoch 295  average loss = 0.5482 accuracy = 72.00%\n",
      "Epoch 296  average loss = 0.5466 accuracy = 72.00%\n",
      "Epoch 297  average loss = 0.5451 accuracy = 72.00%\n",
      "Epoch 298  average loss = 0.5436 accuracy = 72.00%\n",
      "Epoch 299  average loss = 0.5421 accuracy = 72.00%\n",
      "Epoch 300  average loss = 0.5406 accuracy = 72.00%\n",
      "Epoch 301  average loss = 0.5391 accuracy = 72.00%\n",
      "Epoch 302  average loss = 0.5377 accuracy = 72.00%\n",
      "Epoch 303  average loss = 0.5362 accuracy = 72.00%\n",
      "Epoch 304  average loss = 0.5348 accuracy = 72.00%\n",
      "Epoch 305  average loss = 0.5335 accuracy = 72.00%\n",
      "Epoch 306  average loss = 0.5321 accuracy = 72.00%\n",
      "Epoch 307  average loss = 0.5307 accuracy = 72.00%\n",
      "Epoch 308  average loss = 0.5294 accuracy = 72.00%\n",
      "Epoch 309  average loss = 0.5281 accuracy = 72.00%\n",
      "Epoch 310  average loss = 0.5268 accuracy = 72.00%\n",
      "Epoch 311  average loss = 0.5255 accuracy = 72.00%\n",
      "Epoch 312  average loss = 0.5243 accuracy = 72.00%\n",
      "Epoch 313  average loss = 0.5230 accuracy = 72.00%\n",
      "Epoch 314  average loss = 0.5218 accuracy = 72.00%\n",
      "Epoch 315  average loss = 0.5206 accuracy = 72.00%\n",
      "Epoch 316  average loss = 0.5194 accuracy = 72.00%\n",
      "Epoch 317  average loss = 0.5182 accuracy = 72.00%\n",
      "Epoch 318  average loss = 0.5171 accuracy = 72.00%\n",
      "Epoch 319  average loss = 0.5159 accuracy = 72.00%\n",
      "Epoch 320  average loss = 0.5148 accuracy = 72.00%\n",
      "Epoch 321  average loss = 0.5137 accuracy = 72.00%\n",
      "Epoch 322  average loss = 0.5126 accuracy = 72.00%\n",
      "Epoch 323  average loss = 0.5115 accuracy = 72.00%\n",
      "Epoch 324  average loss = 0.5105 accuracy = 72.00%\n",
      "Epoch 325  average loss = 0.5094 accuracy = 72.00%\n",
      "Epoch 326  average loss = 0.5084 accuracy = 72.00%\n",
      "Epoch 327  average loss = 0.5074 accuracy = 72.00%\n",
      "Epoch 328  average loss = 0.5064 accuracy = 72.00%\n",
      "Epoch 329  average loss = 0.5054 accuracy = 72.00%\n",
      "Epoch 330  average loss = 0.5044 accuracy = 72.00%\n",
      "Epoch 331  average loss = 0.5034 accuracy = 72.00%\n",
      "Epoch 332  average loss = 0.5025 accuracy = 72.00%\n",
      "Epoch 333  average loss = 0.5015 accuracy = 72.00%\n",
      "Epoch 334  average loss = 0.5006 accuracy = 72.00%\n",
      "Epoch 335  average loss = 0.4997 accuracy = 72.00%\n",
      "Epoch 336  average loss = 0.4988 accuracy = 72.00%\n",
      "Epoch 337  average loss = 0.4979 accuracy = 72.00%\n",
      "Epoch 338  average loss = 0.4970 accuracy = 72.00%\n",
      "Epoch 339  average loss = 0.4961 accuracy = 72.00%\n",
      "Epoch 340  average loss = 0.4953 accuracy = 72.00%\n",
      "Epoch 341  average loss = 0.4944 accuracy = 72.00%\n",
      "Epoch 342  average loss = 0.4936 accuracy = 72.00%\n",
      "Epoch 343  average loss = 0.4928 accuracy = 72.00%\n",
      "Epoch 344  average loss = 0.4920 accuracy = 72.00%\n",
      "Epoch 345  average loss = 0.4912 accuracy = 72.00%\n",
      "Epoch 346  average loss = 0.4904 accuracy = 72.00%\n",
      "Epoch 347  average loss = 0.4896 accuracy = 72.00%\n",
      "Epoch 348  average loss = 0.4888 accuracy = 72.00%\n",
      "Epoch 349  average loss = 0.4881 accuracy = 72.00%\n",
      "Epoch 350  average loss = 0.4873 accuracy = 72.00%\n",
      "Epoch 351  average loss = 0.4866 accuracy = 72.00%\n",
      "Epoch 352  average loss = 0.4859 accuracy = 72.00%\n",
      "Epoch 353  average loss = 0.4851 accuracy = 72.00%\n",
      "Epoch 354  average loss = 0.4844 accuracy = 72.00%\n",
      "Epoch 355  average loss = 0.4837 accuracy = 72.00%\n",
      "Epoch 356  average loss = 0.4830 accuracy = 72.00%\n",
      "Epoch 357  average loss = 0.4824 accuracy = 72.00%\n",
      "Epoch 358  average loss = 0.4817 accuracy = 72.00%\n",
      "Epoch 359  average loss = 0.4810 accuracy = 72.00%\n",
      "Epoch 360  average loss = 0.4804 accuracy = 72.00%\n",
      "Epoch 361  average loss = 0.4797 accuracy = 72.00%\n",
      "Epoch 362  average loss = 0.4791 accuracy = 72.00%\n",
      "Epoch 363  average loss = 0.4785 accuracy = 72.00%\n",
      "Epoch 364  average loss = 0.4778 accuracy = 72.00%\n",
      "Epoch 365  average loss = 0.4772 accuracy = 72.00%\n",
      "Epoch 366  average loss = 0.4766 accuracy = 72.00%\n",
      "Epoch 367  average loss = 0.4760 accuracy = 72.00%\n",
      "Epoch 368  average loss = 0.4755 accuracy = 72.00%\n",
      "Epoch 369  average loss = 0.4749 accuracy = 72.00%\n",
      "Epoch 370  average loss = 0.4743 accuracy = 72.00%\n",
      "Epoch 371  average loss = 0.4737 accuracy = 72.00%\n",
      "Epoch 372  average loss = 0.4732 accuracy = 72.00%\n",
      "Epoch 373  average loss = 0.4726 accuracy = 72.00%\n",
      "Epoch 374  average loss = 0.4721 accuracy = 72.00%\n",
      "Epoch 375  average loss = 0.4716 accuracy = 72.00%\n",
      "Epoch 376  average loss = 0.4710 accuracy = 72.00%\n",
      "Epoch 377  average loss = 0.4705 accuracy = 72.00%\n",
      "Epoch 378  average loss = 0.4700 accuracy = 72.00%\n",
      "Epoch 379  average loss = 0.4695 accuracy = 72.00%\n",
      "Epoch 380  average loss = 0.4690 accuracy = 72.00%\n",
      "Epoch 381  average loss = 0.4685 accuracy = 72.00%\n",
      "Epoch 382  average loss = 0.4680 accuracy = 72.00%\n",
      "Epoch 383  average loss = 0.4675 accuracy = 72.00%\n",
      "Epoch 384  average loss = 0.4670 accuracy = 72.00%\n",
      "Epoch 385  average loss = 0.4666 accuracy = 72.00%\n",
      "Epoch 386  average loss = 0.4661 accuracy = 72.00%\n",
      "Epoch 387  average loss = 0.4657 accuracy = 72.00%\n",
      "Epoch 388  average loss = 0.4652 accuracy = 72.00%\n",
      "Epoch 389  average loss = 0.4648 accuracy = 72.00%\n",
      "Epoch 390  average loss = 0.4643 accuracy = 72.00%\n",
      "Epoch 391  average loss = 0.4639 accuracy = 72.00%\n",
      "Epoch 392  average loss = 0.4635 accuracy = 72.00%\n",
      "Epoch 393  average loss = 0.4630 accuracy = 72.00%\n",
      "Epoch 394  average loss = 0.4626 accuracy = 72.00%\n",
      "Epoch 395  average loss = 0.4622 accuracy = 72.00%\n",
      "Epoch 396  average loss = 0.4618 accuracy = 72.00%\n",
      "Epoch 397  average loss = 0.4614 accuracy = 72.00%\n",
      "Epoch 398  average loss = 0.4610 accuracy = 72.00%\n",
      "Epoch 399  average loss = 0.4606 accuracy = 72.00%\n",
      "Epoch 400  average loss = 0.4602 accuracy = 72.00%\n",
      "Epoch 401  average loss = 0.4599 accuracy = 72.00%\n",
      "Epoch 402  average loss = 0.4595 accuracy = 72.00%\n",
      "Epoch 403  average loss = 0.4591 accuracy = 72.00%\n",
      "Epoch 404  average loss = 0.4587 accuracy = 72.00%\n",
      "Epoch 405  average loss = 0.4584 accuracy = 72.00%\n",
      "Epoch 406  average loss = 0.4580 accuracy = 72.00%\n",
      "Epoch 407  average loss = 0.4577 accuracy = 72.00%\n",
      "Epoch 408  average loss = 0.4573 accuracy = 72.00%\n",
      "Epoch 409  average loss = 0.4570 accuracy = 72.00%\n",
      "Epoch 410  average loss = 0.4566 accuracy = 72.00%\n",
      "Epoch 411  average loss = 0.4563 accuracy = 72.00%\n",
      "Epoch 412  average loss = 0.4560 accuracy = 72.00%\n",
      "Epoch 413  average loss = 0.4557 accuracy = 72.00%\n",
      "Epoch 414  average loss = 0.4553 accuracy = 72.00%\n",
      "Epoch 415  average loss = 0.4550 accuracy = 72.00%\n",
      "Epoch 416  average loss = 0.4547 accuracy = 72.00%\n",
      "Epoch 417  average loss = 0.4544 accuracy = 72.00%\n",
      "Epoch 418  average loss = 0.4541 accuracy = 72.00%\n",
      "Epoch 419  average loss = 0.4538 accuracy = 72.00%\n",
      "Epoch 420  average loss = 0.4535 accuracy = 72.00%\n",
      "Epoch 421  average loss = 0.4532 accuracy = 72.00%\n",
      "Epoch 422  average loss = 0.4529 accuracy = 72.00%\n",
      "Epoch 423  average loss = 0.4526 accuracy = 72.00%\n",
      "Epoch 424  average loss = 0.4523 accuracy = 72.00%\n",
      "Epoch 425  average loss = 0.4521 accuracy = 72.00%\n",
      "Epoch 426  average loss = 0.4518 accuracy = 72.00%\n",
      "Epoch 427  average loss = 0.4515 accuracy = 72.00%\n",
      "Epoch 428  average loss = 0.4512 accuracy = 72.00%\n",
      "Epoch 429  average loss = 0.4510 accuracy = 72.00%\n",
      "Epoch 430  average loss = 0.4507 accuracy = 72.00%\n",
      "Epoch 431  average loss = 0.4505 accuracy = 72.00%\n",
      "Epoch 432  average loss = 0.4502 accuracy = 72.00%\n",
      "Epoch 433  average loss = 0.4500 accuracy = 72.00%\n",
      "Epoch 434  average loss = 0.4497 accuracy = 72.00%\n",
      "Epoch 435  average loss = 0.4495 accuracy = 72.00%\n",
      "Epoch 436  average loss = 0.4492 accuracy = 72.00%\n",
      "Epoch 437  average loss = 0.4490 accuracy = 72.00%\n",
      "Epoch 438  average loss = 0.4487 accuracy = 72.00%\n",
      "Epoch 439  average loss = 0.4485 accuracy = 72.00%\n",
      "Epoch 440  average loss = 0.4483 accuracy = 72.00%\n",
      "Epoch 441  average loss = 0.4481 accuracy = 72.00%\n",
      "Epoch 442  average loss = 0.4478 accuracy = 72.00%\n",
      "Epoch 443  average loss = 0.4476 accuracy = 72.00%\n",
      "Epoch 444  average loss = 0.4474 accuracy = 72.00%\n",
      "Epoch 445  average loss = 0.4472 accuracy = 72.00%\n",
      "Epoch 446  average loss = 0.4470 accuracy = 72.00%\n",
      "Epoch 447  average loss = 0.4467 accuracy = 72.00%\n",
      "Epoch 448  average loss = 0.4465 accuracy = 72.00%\n",
      "Epoch 449  average loss = 0.4463 accuracy = 72.00%\n",
      "Epoch 450  average loss = 0.4461 accuracy = 72.00%\n",
      "Epoch 451  average loss = 0.4459 accuracy = 72.00%\n",
      "Epoch 452  average loss = 0.4457 accuracy = 72.00%\n",
      "Epoch 453  average loss = 0.4455 accuracy = 72.00%\n",
      "Epoch 454  average loss = 0.4453 accuracy = 72.00%\n",
      "Epoch 455  average loss = 0.4452 accuracy = 72.00%\n",
      "Epoch 456  average loss = 0.4450 accuracy = 72.00%\n",
      "Epoch 457  average loss = 0.4448 accuracy = 72.00%\n",
      "Epoch 458  average loss = 0.4446 accuracy = 72.00%\n",
      "Epoch 459  average loss = 0.4444 accuracy = 72.00%\n",
      "Epoch 460  average loss = 0.4442 accuracy = 72.00%\n",
      "Epoch 461  average loss = 0.4441 accuracy = 72.00%\n",
      "Epoch 462  average loss = 0.4439 accuracy = 72.00%\n",
      "Epoch 463  average loss = 0.4437 accuracy = 72.00%\n",
      "Epoch 464  average loss = 0.4435 accuracy = 72.00%\n",
      "Epoch 465  average loss = 0.4434 accuracy = 72.00%\n",
      "Epoch 466  average loss = 0.4432 accuracy = 72.00%\n",
      "Epoch 467  average loss = 0.4430 accuracy = 72.00%\n",
      "Epoch 468  average loss = 0.4429 accuracy = 72.00%\n",
      "Epoch 469  average loss = 0.4427 accuracy = 72.00%\n",
      "Epoch 470  average loss = 0.4426 accuracy = 72.00%\n",
      "Epoch 471  average loss = 0.4424 accuracy = 72.00%\n",
      "Epoch 472  average loss = 0.4423 accuracy = 72.00%\n",
      "Epoch 473  average loss = 0.4421 accuracy = 72.00%\n",
      "Epoch 474  average loss = 0.4420 accuracy = 72.00%\n",
      "Epoch 475  average loss = 0.4418 accuracy = 72.00%\n",
      "Epoch 476  average loss = 0.4417 accuracy = 72.00%\n",
      "Epoch 477  average loss = 0.4415 accuracy = 72.00%\n",
      "Epoch 478  average loss = 0.4414 accuracy = 72.00%\n",
      "Epoch 479  average loss = 0.4412 accuracy = 72.00%\n",
      "Epoch 480  average loss = 0.4411 accuracy = 72.00%\n",
      "Epoch 481  average loss = 0.4410 accuracy = 72.00%\n",
      "Epoch 482  average loss = 0.4408 accuracy = 72.00%\n",
      "Epoch 483  average loss = 0.4407 accuracy = 72.00%\n",
      "Epoch 484  average loss = 0.4406 accuracy = 72.00%\n",
      "Epoch 485  average loss = 0.4404 accuracy = 72.00%\n",
      "Epoch 486  average loss = 0.4403 accuracy = 72.00%\n",
      "Epoch 487  average loss = 0.4402 accuracy = 72.00%\n",
      "Epoch 488  average loss = 0.4400 accuracy = 72.00%\n",
      "Epoch 489  average loss = 0.4399 accuracy = 72.00%\n",
      "Epoch 490  average loss = 0.4398 accuracy = 72.00%\n",
      "Epoch 491  average loss = 0.4397 accuracy = 72.00%\n",
      "Epoch 492  average loss = 0.4396 accuracy = 72.00%\n",
      "Epoch 493  average loss = 0.4394 accuracy = 72.00%\n",
      "Epoch 494  average loss = 0.4393 accuracy = 72.00%\n",
      "Epoch 495  average loss = 0.4392 accuracy = 72.00%\n",
      "Epoch 496  average loss = 0.4391 accuracy = 72.00%\n",
      "Epoch 497  average loss = 0.4390 accuracy = 72.00%\n",
      "Epoch 498  average loss = 0.4389 accuracy = 72.00%\n",
      "Epoch 499  average loss = 0.4388 accuracy = 72.00%\n",
      "Epoch 500  average loss = 0.4387 accuracy = 72.00%\n"
     ]
    }
   ],
   "source": [
    "# Write your training loop here\n",
    "# We stick to the picture above to set up part C\n",
    "\n",
    "x_axis, y_axis = [], []\n",
    "# Set up epoch\n",
    "epochs= 500\n",
    "\n",
    "# Iterate\n",
    "for epoch in range(epochs):\n",
    "    # Init record keeping\n",
    "    loss_count = 0\n",
    "    total_count = 0\n",
    "    correct_count = 0\n",
    "\n",
    "    # Loop over names and extract train data\n",
    "    for name_id in range(num_names):\n",
    "        questions, keys, values = train_data[name_id]\n",
    "        questions = questions.to(device)\n",
    "        keys = keys.to(device)\n",
    "        values = values.to(device)\n",
    "\n",
    "        # Loop over relations\n",
    "        for relation_index in range(num_relations):\n",
    "            q = questions[relation_index].clone()          # (20)\n",
    "            k = keys.clone()                                # (5,20)\n",
    "            v = values.clone()                              # (5,20)\n",
    "            # print(\"q\",q.shape)\n",
    "            # print(\"k\",k.shape)\n",
    "            # print(\"v\",v.shape)\n",
    "\n",
    "            # Run forward pass\n",
    "            output = model(q, k, v)  # (1, embed_dim)\n",
    "            # print(output.shape)\n",
    "\n",
    "            # Embed all possible values using B\n",
    "            y_embed = model.B(Y)  # (25, embed_dim)\n",
    "\n",
    "            # Compute similarity and loss\n",
    "            pred_probability = torch.matmul(output, y_embed.T)  # (1, 25)\n",
    "            target = torch.tensor([name_id * num_relations + relation_index], dtype=torch.long).to(device)\n",
    "            # print(target.shape)\n",
    "\n",
    "            # Back Propagation\n",
    "            loss = criterion(pred_probability, target)\n",
    "            optimizer.zero_grad()\n",
    "            loss.backward()\n",
    "            optimizer.step()\n",
    "\n",
    "            # Increment recording tracking\n",
    "            loss_count += loss.item()\n",
    "            total_count += 1\n",
    "            pred = torch.argmax(pred_probability, dim=1).item()\n",
    "            # print(\"Target: \",target.item())\n",
    "            # print(\"Pred: \", pred)\n",
    "            correct_count += int(pred == target.item())\n",
    "    \n",
    "    accuracy = correct_count / total_count\n",
    "    avg_loss = loss_count / total_count\n",
    "    x_axis.append(epoch)\n",
    "    y_axis.append(avg_loss)\n",
    "    print(f\"Epoch {epoch+1:>2}  average loss = {avg_loss:.4f} accuracy = {accuracy:.2%}\")\n"
   ]
  },
  {
   "cell_type": "code",
   "execution_count": 409,
   "metadata": {},
   "outputs": [
    {
     "data": {
      "image/png": "[encoded data removed]",
      "text/plain": [
       "<Figure size 640x480 with 1 Axes>"
      ]
     },
     "metadata": {},
     "output_type": "display_data"
    }
   ],
   "source": [
    "# Plot loss curve\n",
    "plt.plot(x_axis, y_axis, marker='o', color ='red', markersize = 3)\n",
    "plt.title(\"Loss Curve on Synthetic Data\")\n",
    "plt.xlabel(\"Epochs\")\n",
    "plt.ylabel(\"Average Loss\")\n",
    "plt.grid(True)\n",
    "plt.show()"
   ]
  },
  {
   "cell_type": "markdown",
   "metadata": {
    "id": "nupd-Gr9P6vc"
   },
   "source": [
    "# Part D: Training on the Full Data (10 points)"
   ]
  },
  {
   "cell_type": "markdown",
   "metadata": {
    "id": "r02Y9yvhPXy8"
   },
   "source": [
    "To train on the full data, you are going to need to do some pre-processing of the data.\n",
    "\n",
    "First, there are no \"questions\". You need to generate questions for each type of relation. There a number of ways to do this. The simplest is to just assume that a question is the name of a person and a relation, e.g., \"Alexander Hamilton birth date\". Another way would be to create templates for each type of relation. For example the \"birth date\" relation would have the following template: \"When was [name] born?\", filling in the [name]. Because there are a lot of different types of relations, you may want to remove the more obscure relations so you need fewer templates and also have a smaller vocabulary. Templates work well if the questions are expected to be almost identical to the templates. You may want to generate multiple templates per relation. Continuing the previous example, a second template would be: \"What is the birthdate of [name]?\".\n",
    "\n",
    "If you are feeling more ambitious, you could use GPT-J, GPT-NeoX, GPT-3 or ChatGPT to generate templates. It works decently well and you can get some variety of templates.\n",
    "\n",
    "The question should contain information about the person and some words that are representative of the relation even if the exact relation words aren't used (the KVMemNet should figure out that \"birthdate\" and \"born\" are correlated).\n",
    "\n",
    "You only put a subset of all key-value pairs into the KVMemNet. You need a technique for sub-selecting from all the key-value pairs in `DB`. You might just need the ones that are directly associated with the person (Alexander Hamilton has 23). You may need to mix in a few key-value pairs from another person's entries in the database to help ensure against accidental overfitting.\n",
    "\n",
    "The final challenge you will have in the training loop is that there may still be too many unique values in `Y` to encode and create one big tensor. In that case, you can at least use the values that you sent to the KVMemNet, along with as many other randomly selected values as you can fit into the GPU's memory."
   ]
  },
  {
   "cell_type": "markdown",
   "metadata": {
    "id": "3I3CTqeEfa1m"
   },
   "source": [
    "Create as many cells below as you need. Save the output of your training and testing functions, reporting loss during training and accuracy during testing. 5 points for a training loop that reduces loss. 5 points for a training function with a correct accuracy computation."
   ]
  },
  {
   "cell_type": "markdown",
   "metadata": {
    "id": "D-970kRwZ26n"
   },
   "source": [
    "**Create a training dataset and a non-overlapping testing dataset**\n",
    "\n",
    "If CPU memory becomes a problem you might want to consider a `DataLoader` so that data can be stored on file and pulled up when needed."
   ]
  },
  {
   "cell_type": "code",
   "execution_count": 456,
   "metadata": {
    "id": "V6VEnB_VS7Px"
   },
   "outputs": [
    {
     "name": "stdout",
     "output_type": "stream",
     "text": [
      "people list  40786\n",
      "Training :  32628\n",
      "Testing:  8158\n",
      "Training data:  8000\n",
      "Test data:  2000\n",
      "Total unique values:  10000\n",
      "Question: abdur rab nishtar birth_date\n",
      "Target: yes 1899 06 13\n"
     ]
    }
   ],
   "source": [
    "# Create your training and test sets here\n",
    "\n",
    "\n",
    "# Get people from DB\n",
    "people_list = list(DB.keys())\n",
    "print(\"people list \",len(people_list))\n",
    "\n",
    "# Split into train and test sets\n",
    "random.shuffle(people_list)\n",
    "train_indices = int(0.8 * len(people_list))\n",
    "people_train = people_list[:train_indices]\n",
    "people_test = people_list[train_indices:]\n",
    "print(\"Training : \", len(people_train))\n",
    "print(\"Testing: \", len(people_test))\n",
    "\n",
    "# Pick some relations based on the DB\n",
    "sample_relations = [\n",
    "    'birth_date', 'birth_place', 'death_date', 'death_place', \n",
    "    'office', 'party', 'spouse', 'children', 'religion'\n",
    "]\n",
    "\n",
    "# Function to create the dataset\n",
    "def create_dataset(people_list, max_samples=None):\n",
    "    # Dataset (question, key, value)\n",
    "    dataset = []\n",
    "    \n",
    "    # Loop through person list\n",
    "    for person in people_list:\n",
    "        person_data = DB[person]\n",
    "        \n",
    "        # Loop through each relation we want to use to create questions\n",
    "        for relation, value in person_data.items():\n",
    "            if relation in sample_relations:\n",
    "                # Create simple questions based on suggestion in the notes\n",
    "                # Question: person + relation (like \"alexander hamilton birth_date\")\n",
    "                question = f\"{person} {relation}\"\n",
    "                \n",
    "                # Key use to match value so set up name + relations, aka same as questions\n",
    "                key = question\n",
    "                # key = person\n",
    "                \n",
    "                # Value:\n",
    "                dataset.append((question, key, value))\n",
    "                \n",
    "                # Set up max_samples to limit the amount of data we will train later\n",
    "                if max_samples and len(dataset) >= max_samples:\n",
    "                    break\n",
    "        \n",
    "        if max_samples and len(dataset) >= max_samples:\n",
    "            break\n",
    "    return dataset\n",
    "\n",
    "# Create train and set data process\n",
    "train_data = create_dataset(people_train, max_samples=8000)  \n",
    "print(\"Training data: \", len(train_data))\n",
    "test_data = create_dataset(people_test, max_samples=2000) \n",
    "print(\"Test data: \", len(test_data))\n",
    "\n",
    "# Collect all unique values for the Y matrix\n",
    "all_values = []\n",
    "for _, _, value in train_data + test_data:\n",
    "    all_values.append(value)\n",
    "\n",
    "print(\"Total unique values: \", len(all_values))\n",
    "\n",
    "\n",
    "print(f\"Question: {train_data[10][0]}\")\n",
    "print(f\"Target: {train_data[10][2]}\")"
   ]
  },
  {
   "cell_type": "markdown",
   "metadata": {
    "id": "MI3b5x2zfl8g"
   },
   "source": [
    "**Create your `KVMemNet`**"
   ]
  },
  {
   "cell_type": "code",
   "execution_count": 457,
   "metadata": {
    "id": "OEKJ1KJxTBUJ"
   },
   "outputs": [],
   "source": [
    "# Set up your KVMemNet here\n",
    "\n",
    "vocab_size = VOCAB.num_words()\n",
    "embed_dim = 128  \n",
    "\n",
    "# Create the model for full dataset\n",
    "model = KVMemNet(vocab_size, embed_dim)\n",
    "model = model.to(device)\n",
    "\n",
    "# Set up optimizer\n",
    "optimizer = optim.Adam(model.parameters(), lr=0.001)\n",
    "\n",
    "# Loss criterion\n",
    "criterion = nn.CrossEntropyLoss()"
   ]
  },
  {
   "cell_type": "markdown",
   "metadata": {
    "id": "9Ug_8X-2fwYD"
   },
   "source": [
    "**Write and run a training loop, showing a loss plot**\n",
    "\n",
    "You may find it handy to also test your network on the test data periodically as it trains."
   ]
  },
  {
   "cell_type": "code",
   "execution_count": 458,
   "metadata": {
    "id": "-K6rxBHFTEPO"
   },
   "outputs": [
    {
     "name": "stdout",
     "output_type": "stream",
     "text": [
      "Training\n",
      "Training epoch 0 and batches 500\n",
      "Batch 0/500, Loss: 3.4013, Acc: 0.00\n",
      "Batch 100/500, Loss: 3.3957, Acc: 0.00\n",
      "Batch 200/500, Loss: 3.3922, Acc: 0.19\n",
      "Batch 300/500, Loss: 3.2936, Acc: 0.00\n",
      "Batch 400/500, Loss: 3.0183, Acc: 0.06\n",
      "Epoch 0/15 - Loss: 3.28, Accuracy: 0.05\n",
      "Training epoch 1 and batches 500\n",
      "Batch 0/500, Loss: 2.7666, Acc: 0.12\n",
      "Batch 100/500, Loss: 3.4269, Acc: 0.00\n",
      "Batch 200/500, Loss: 2.8860, Acc: 0.19\n",
      "Batch 300/500, Loss: 3.0138, Acc: 0.00\n",
      "Batch 400/500, Loss: 2.7059, Acc: 0.12\n",
      "Epoch 1/15 - Loss: 2.84, Accuracy: 0.12\n",
      "Training epoch 2 and batches 500\n",
      "Batch 0/500, Loss: 2.2660, Acc: 0.38\n",
      "Batch 100/500, Loss: 2.6340, Acc: 0.19\n",
      "Batch 200/500, Loss: 2.1195, Acc: 0.44\n",
      "Batch 300/500, Loss: 2.8243, Acc: 0.25\n",
      "Batch 400/500, Loss: 1.7543, Acc: 0.62\n",
      "Epoch 2/15 - Loss: 2.22, Accuracy: 0.31\n",
      "Training epoch 3 and batches 500\n",
      "Batch 0/500, Loss: 1.6278, Acc: 0.56\n",
      "Batch 100/500, Loss: 2.0149, Acc: 0.38\n",
      "Batch 200/500, Loss: 1.5723, Acc: 0.50\n",
      "Batch 300/500, Loss: 1.6578, Acc: 0.56\n",
      "Batch 400/500, Loss: 0.8743, Acc: 0.81\n",
      "Epoch 3/15 - Loss: 1.40, Accuracy: 0.63\n",
      "Training epoch 4 and batches 500\n",
      "Batch 0/500, Loss: 1.1721, Acc: 0.69\n",
      "Batch 100/500, Loss: 1.1384, Acc: 0.75\n",
      "Batch 200/500, Loss: 0.9618, Acc: 0.75\n",
      "Batch 300/500, Loss: 1.3611, Acc: 0.75\n",
      "Batch 400/500, Loss: 0.5964, Acc: 0.88\n",
      "Epoch 4/15 - Loss: 0.95, Accuracy: 0.78\n",
      "Training epoch 5 and batches 500\n",
      "Batch 0/500, Loss: 0.5722, Acc: 0.88\n",
      "Batch 100/500, Loss: 1.1149, Acc: 0.69\n",
      "Batch 200/500, Loss: 0.5443, Acc: 0.88\n",
      "Batch 300/500, Loss: 0.9291, Acc: 0.69\n",
      "Batch 400/500, Loss: 0.4404, Acc: 0.88\n",
      "Epoch 5/15 - Loss: 0.66, Accuracy: 0.87\n",
      "Training epoch 6 and batches 500\n",
      "Batch 0/500, Loss: 0.4254, Acc: 0.94\n",
      "Batch 100/500, Loss: 0.8453, Acc: 0.75\n",
      "Batch 200/500, Loss: 0.5745, Acc: 0.81\n",
      "Batch 300/500, Loss: 0.7498, Acc: 0.81\n",
      "Batch 400/500, Loss: 0.3222, Acc: 1.00\n",
      "Epoch 6/15 - Loss: 0.48, Accuracy: 0.93\n",
      "Training epoch 7 and batches 500\n",
      "Batch 0/500, Loss: 0.5610, Acc: 0.94\n",
      "Batch 100/500, Loss: 0.6357, Acc: 0.94\n",
      "Batch 200/500, Loss: 0.4083, Acc: 1.00\n",
      "Batch 300/500, Loss: 0.8996, Acc: 0.75\n",
      "Batch 400/500, Loss: 0.2996, Acc: 0.94\n",
      "Epoch 7/15 - Loss: 0.41, Accuracy: 0.94\n",
      "Training epoch 8 and batches 500\n",
      "Batch 0/500, Loss: 0.2067, Acc: 1.00\n",
      "Batch 100/500, Loss: 0.4917, Acc: 0.94\n",
      "Batch 200/500, Loss: 0.6183, Acc: 0.94\n",
      "Batch 300/500, Loss: 0.5730, Acc: 0.94\n",
      "Batch 400/500, Loss: 0.1681, Acc: 1.00\n",
      "Epoch 8/15 - Loss: 0.35, Accuracy: 0.96\n",
      "Training epoch 9 and batches 500\n",
      "Batch 0/500, Loss: 0.2367, Acc: 0.94\n",
      "Batch 100/500, Loss: 0.4070, Acc: 1.00\n",
      "Batch 200/500, Loss: 0.1775, Acc: 1.00\n",
      "Batch 300/500, Loss: 0.4675, Acc: 1.00\n",
      "Batch 400/500, Loss: 0.1427, Acc: 1.00\n",
      "Epoch 9/15 - Loss: 0.30, Accuracy: 0.97\n",
      "Training epoch 10 and batches 500\n",
      "Batch 0/500, Loss: 0.1485, Acc: 1.00\n",
      "Batch 100/500, Loss: 0.3816, Acc: 0.94\n",
      "Batch 200/500, Loss: 0.2512, Acc: 1.00\n",
      "Batch 300/500, Loss: 0.3992, Acc: 0.94\n",
      "Batch 400/500, Loss: 0.1576, Acc: 1.00\n",
      "Epoch 10/15 - Loss: 0.28, Accuracy: 0.97\n",
      "Training epoch 11 and batches 500\n",
      "Batch 0/500, Loss: 0.0723, Acc: 1.00\n",
      "Batch 100/500, Loss: 0.4160, Acc: 0.94\n",
      "Batch 200/500, Loss: 0.2754, Acc: 0.94\n",
      "Batch 300/500, Loss: 0.4264, Acc: 0.94\n",
      "Batch 400/500, Loss: 0.0971, Acc: 1.00\n",
      "Epoch 11/15 - Loss: 0.27, Accuracy: 0.97\n",
      "Training epoch 12 and batches 500\n",
      "Batch 0/500, Loss: 0.1070, Acc: 1.00\n",
      "Batch 100/500, Loss: 0.2731, Acc: 1.00\n",
      "Batch 200/500, Loss: 0.2726, Acc: 0.94\n",
      "Batch 300/500, Loss: 0.4769, Acc: 0.94\n",
      "Batch 400/500, Loss: 0.1537, Acc: 1.00\n",
      "Epoch 12/15 - Loss: 0.24, Accuracy: 0.98\n",
      "Training epoch 13 and batches 500\n",
      "Batch 0/500, Loss: 0.1314, Acc: 1.00\n",
      "Batch 100/500, Loss: 0.3261, Acc: 1.00\n",
      "Batch 200/500, Loss: 0.1793, Acc: 1.00\n",
      "Batch 300/500, Loss: 0.3326, Acc: 1.00\n",
      "Batch 400/500, Loss: 0.1695, Acc: 1.00\n",
      "Epoch 13/15 - Loss: 0.23, Accuracy: 0.98\n",
      "Training epoch 14 and batches 500\n",
      "Batch 0/500, Loss: 0.0543, Acc: 1.00\n",
      "Batch 100/500, Loss: 0.3428, Acc: 0.94\n",
      "Batch 200/500, Loss: 0.1619, Acc: 1.00\n",
      "Batch 300/500, Loss: 0.4389, Acc: 0.88\n",
      "Batch 400/500, Loss: 0.1513, Acc: 1.00\n",
      "Epoch 14/15 - Loss: 0.22, Accuracy: 0.98\n"
     ]
    }
   ],
   "source": [
    "# Training loop goes here\n",
    "from torch.optim.lr_scheduler import StepLR\n",
    "\n",
    "# Implement batch data processing first, return list of batches of data\n",
    "def split_data_to_batches(full_data, batch_size = 16):\n",
    "    batches = []\n",
    "    for i in range(0, len(full_data), batch_size):\n",
    "        batch = full_data[i:i + batch_size]\n",
    "        batches.append(batch)\n",
    "\n",
    "    return batches\n",
    "\n",
    "# Implement batch data processing step\n",
    "# Tokenize, convert to multihot\n",
    "# convert to tensor, set up target\n",
    "# From partB, we need question, key, value data plus the target for loss calculation\n",
    "def batch_data_processing(batch_data, vocab, max_key = 30):\n",
    "    # The main idea in batch data is that even though we have correct question,key,value.\n",
    "    # We want to introduce random distractor to make the learning harder.\n",
    "    # For simplicity we will stack the correct key,value answer to first index\n",
    "\n",
    "    # Init records\n",
    "    processed_questions = []\n",
    "    batch_keys = []\n",
    "    batch_values = []\n",
    "    processed_targets = []\n",
    "\n",
    "    # Loop through the batch data\n",
    "    for question, key, value in batch_data:\n",
    "        question = multihot(question,vocab, preserve_counts=True)\n",
    "        processed_questions.append(torch.FloatTensor(question))\n",
    "\n",
    "        # Here on key,value stacks we put correct answer on top index\n",
    "        keys_stack = [key]\n",
    "        values_stack = [value]\n",
    "\n",
    "        # Next we need to generate extra random values\n",
    "        additional_samples = random.sample(train_data, max_key-1)\n",
    "        for _, additional_key, additional_value in additional_samples:\n",
    "            if len(keys_stack) >= max_key:      # in case overflow data\n",
    "                break\n",
    "            # append extra key,value\n",
    "            keys_stack.append(additional_key)\n",
    "            values_stack.append(additional_value)\n",
    "\n",
    "        # BOW\n",
    "        keys_bow = []\n",
    "        values_bow = []\n",
    "        for k, v in zip(keys_stack,values_stack):\n",
    "            k_bow = multihot(k, vocab, preserve_counts= True)\n",
    "            v_bow = multihot(v, vocab, preserve_counts=True)\n",
    "            keys_bow.append(torch.FloatTensor(k_bow))\n",
    "            values_bow.append(torch.FloatTensor(v_bow))\n",
    "\n",
    "        # Append keys and values to processed batch\n",
    "        batch_keys.append(torch.stack(keys_bow))\n",
    "        batch_values.append(torch.stack(values_bow))\n",
    "\n",
    "        processed_targets.append(0)         # correct answer for all questions are in index 0\n",
    "\n",
    "    # Stack batch tensor\n",
    "    processed_questions = torch.stack(processed_questions)\n",
    "    processed_keys = torch.stack(batch_keys)\n",
    "    processed_values = torch.stack(batch_values)\n",
    "    processed_targets = torch.LongTensor(processed_targets)\n",
    "\n",
    "    return processed_questions, processed_keys, processed_values, processed_targets\n",
    "\n",
    "### Training function folr 1 epoch\n",
    "def train_epoch(model, train_data, optimizer, criterion, epoch_count):\n",
    "    # Init\n",
    "    model.train()\n",
    "    total_loss = 0\n",
    "    correct_count = 0\n",
    "    total_count = 0\n",
    "\n",
    "    # Create batches from train_data\n",
    "    batches = split_data_to_batches(train_data, batch_size= 16)\n",
    "    print(f\"Training epoch {epoch_count} and batches {len(batches)}\")\n",
    "    for i, batch in enumerate(batches):\n",
    "        \n",
    "        # Processed data in batch, model we implement in B take separate q,k,v\n",
    "        q,k,v, target = batch_data_processing(batch, VOCAB, max_key=30)         # Higher max key is more challenging and computational\n",
    "\n",
    "        # Move to cuda\n",
    "        # print(device)\n",
    "        q = q.to(device)\n",
    "        k = k.to(device)\n",
    "        v = v.to(device)\n",
    "        target = target.to(device)\n",
    "\n",
    "        # Forward\n",
    "        batch_output = model.forward(q,k,v)         # (batch_size, embed_dim)\n",
    "        # print(\"batch output\", batch_output.shape)\n",
    "\n",
    "        # Similar to partC, need an embedding for all values in batch\n",
    "        # Let it go through B, and bmm with the output like the figure in C\n",
    "        values_flat = torch.flatten(v, start_dim=0, end_dim=1)      # flat (batch_size * max_keys, vocab_size)\n",
    "        # print(\"value flat\",values_flat.shape)\n",
    "        embed_batch_value = model.B(values_flat)\n",
    "        # Reshape back after flatten.\n",
    "        embed_batch_value = torch.reshape(embed_batch_value, (v.size(0), v.size(1), -1))        # (batch, max_key, embed_dim)\n",
    "        # print(\"embed_batch value\", embed_batch_value.shape)\n",
    "\n",
    "        # Using bmm to calculate scores/similarity\n",
    "        # batch_output (batch_size, embed_dim)  ---> (batch, 1, embed)\n",
    "        # embed_batch_value (batch, max_key, embed_dim) ---> (batch, embed, max_key)\n",
    "        scores = torch.bmm(batch_output.unsqueeze(1), embed_batch_value.transpose(1,2)).squeeze(1)          # (batch, 1, max_key)\n",
    "\n",
    "        # Loss\n",
    "        loss = criterion(scores, target)\n",
    "\n",
    "        # Back Propagation\n",
    "        optimizer.zero_grad()\n",
    "        loss.backward()\n",
    "        optimizer.step()\n",
    "\n",
    "        # Records keeping\n",
    "        total_count += target.size(0)\n",
    "        total_loss += loss.item()\n",
    "        _, predict = torch.max(scores.data, 1)\n",
    "        correct_count += (predict == target).sum().item()\n",
    "\n",
    "        # Print progress\n",
    "        if i % 100 == 0:\n",
    "            batch_accuracy = (predict == target).sum().item() / target.size(0)\n",
    "            print(f\"Batch {i}/{len(batches)}, Loss: {loss.item():.4f}, Acc: {batch_accuracy:.2f}\")\n",
    "\n",
    "    avg_loss = total_loss/len(batches)\n",
    "    accuracy = correct_count/total_count\n",
    "\n",
    "    return avg_loss, accuracy\n",
    "\n",
    "### Main\n",
    "\n",
    "print(\"Training\")\n",
    "# Init records keeping for graph\n",
    "train_losses = []\n",
    "train_accuracy = []\n",
    "epochs = 15\n",
    "\n",
    "# Edit: 7.23 Add learning schedule so it learn faster from begining\n",
    "# Reduce lr by 50% every 3 epoc\n",
    "lr_schedule = StepLR(optimizer, step_size = 3, gamma = 0.5)\n",
    "\n",
    "for epoch in range(epochs):\n",
    "\n",
    "    # Train\n",
    "    epoch_loss, epoch_acc = train_epoch(model, train_data, optimizer, criterion,epoch)\n",
    "\n",
    "    # Edit 7.23 decay lr\n",
    "    lr_schedule.step()\n",
    "\n",
    "    # Record for graph later\n",
    "    train_losses.append(epoch_loss)\n",
    "    train_accuracy.append(epoch_acc)\n",
    "\n",
    "    print(f\"Epoch {epoch}/{epochs} - Loss: {epoch_loss:.2f}, Accuracy: {epoch_acc:.2f}\")\n",
    "\n",
    "          \n",
    "\n"
   ]
  },
  {
   "cell_type": "code",
   "execution_count": 459,
   "metadata": {},
   "outputs": [
    {
     "data": {
      "image/png": "[encoded data removed]",
      "text/plain": [
       "<Figure size 600x400 with 1 Axes>"
      ]
     },
     "metadata": {},
     "output_type": "display_data"
    },
    {
     "data": {
      "image/png": "[encoded data removed]",
      "text/plain": [
       "<Figure size 600x400 with 1 Axes>"
      ]
     },
     "metadata": {},
     "output_type": "display_data"
    }
   ],
   "source": [
    "# Plot training loss\n",
    "plt.figure(figsize=(6, 4))\n",
    "plt.plot(range(1, len(train_losses) + 1), train_losses, 'b-', marker='o')\n",
    "plt.title('Loss Curve on reduced dataset')\n",
    "plt.xlabel('Epoch')\n",
    "plt.ylabel('Average Loss')\n",
    "plt.grid(True)\n",
    "plt.show()\n",
    "\n",
    "# Plot training accuracy\n",
    "plt.figure(figsize=(6, 4))\n",
    "plt.plot(range(1, len(train_accuracy) + 1), train_accuracy, 'r-', marker='o')\n",
    "plt.title('Training Accuracy on reduced dataset')\n",
    "plt.xlabel('Epoch')\n",
    "plt.ylabel('Accuracy')\n",
    "plt.grid(True)\n",
    "plt.show()"
   ]
  },
  {
   "cell_type": "markdown",
   "metadata": {
    "id": "7g5uXKRAgDjD"
   },
   "source": [
    "**Write the code for testing your model on the test data**\n",
    "\n",
    "Your training loop can call the testing loop. But make sure that you do one last test on the model after training completes."
   ]
  },
  {
   "cell_type": "code",
   "execution_count": 460,
   "metadata": {
    "id": "ecGNHCNhTGxK"
   },
   "outputs": [
    {
     "name": "stdout",
     "output_type": "stream",
     "text": [
      "Test on 2000 samples\n",
      "Accuracy 73.35000000000001%\n"
     ]
    }
   ],
   "source": [
    "# Testing loop goes here\n",
    "\n",
    "model.eval()\n",
    "correct_count = 0\n",
    "total_count = 0\n",
    "\n",
    "print(f\"Test on {len(test_data)} samples\")\n",
    "\n",
    "# Need to split into batch because out of memory\n",
    "with torch.no_grad():\n",
    "    test_batches = split_data_to_batches(test_data, batch_size=8)\n",
    "    \n",
    "    # Loop though the batch\n",
    "    for data in test_batches:\n",
    "        \n",
    "        q,k,v,target = batch_data_processing(data, VOCAB, max_key= 30)\n",
    "\n",
    "        q = q.to(device)\n",
    "        k = k.to(device)\n",
    "        v = v.to(device)\n",
    "        target = target.to(device)\n",
    "\n",
    "        # Forward\n",
    "        output = model.forward(q,k,v)\n",
    "\n",
    "        # Flatten and prepare embeding with B\n",
    "        all_values_flat = torch.flatten(v, start_dim = 0, end_dim = 1)\n",
    "        all_values_embed = model.B(all_values_flat)\n",
    "\n",
    "        # Reshape\n",
    "        all_values_embed = all_values_embed.reshape(v.size(0), v.size(1), -1)\n",
    "\n",
    "        # Compute scores\n",
    "        scores = torch.bmm(output.unsqueeze(1), all_values_embed.transpose(1,2)).squeeze(1)\n",
    "\n",
    "        # Prediction\n",
    "        _, predict = torch.max(scores.data, 1)\n",
    "\n",
    "        # Record keeping\n",
    "        correct_count += (predict == target).sum().item()\n",
    "        total_count += target.size(0)\n",
    "\n",
    "accuracy = correct_count / total_count\n",
    "print(f\"Accuracy {accuracy*100}%\")\n",
    "\n",
    "\n",
    "\n"
   ]
  },
  {
   "cell_type": "markdown",
   "metadata": {
    "id": "fSfTnmWbf0Pr"
   },
   "source": [
    "**Suggestion:** Once you have a model that has decent accuracy, you may want to save it to your Google Drive using ``torch.save()`` and load it when working on the next part of the assignment using ``torch.load()``."
   ]
  },
  {
   "cell_type": "code",
   "execution_count": 100,
   "metadata": {},
   "outputs": [],
   "source": [
    "# Save to a local path\n",
    "model_path = os.path.join(\"models\", \"trained.pt\")  \n",
    "os.makedirs(os.path.dirname(model_path), exist_ok=True)\n",
    "torch.save(model.state_dict(), model_path)"
   ]
  },
  {
   "cell_type": "code",
   "execution_count": 141,
   "metadata": {},
   "outputs": [
    {
     "data": {
      "text/plain": [
       "KVMemNet(\n",
       "  (A): Linear(in_features=37048, out_features=128, bias=True)\n",
       "  (B): Linear(in_features=37048, out_features=128, bias=True)\n",
       ")"
      ]
     },
     "execution_count": 141,
     "metadata": {},
     "output_type": "execute_result"
    }
   ],
   "source": [
    "# Load trained model\n",
    "model = KVMemNet(vocab_size, embed_dim)  # use your constructor and same hyperparams\n",
    "\n",
    "# Load saved weights\n",
    "model.load_state_dict(torch.load(\"models/trained.pt\"))\n",
    "model.to(device)\n",
    "model.eval()\n"
   ]
  },
  {
   "cell_type": "markdown",
   "metadata": {
    "id": "lRCn-LZmMNCp"
   },
   "source": [
    "# Part E: Use the Model (5 points)\n",
    "\n",
    "Given a question in natural language, turn it into a bag of words and feed it into the model with a set of plausible keys and values. Apply the output feature embedding to the full set of values and pick the value with argmax. Return the actual text inside that value (not the bag of words or embedding).\n",
    "\n",
    "That is, given a natural language question, you are asked to create the $q$ and pick a relevant subset of $k$ and $v$. Run the $q$, $k$, and $v$ through the model and get an answer to the original question.\n",
    "\n",
    "For example a question might be \"When was Alexander Hamilton born?\" Depending on how you pre-proessed your data, you may need to extract the entity and the relation.\n",
    "\n",
    "Write a function that takes in the `question` below, the data, and the model, and outputs the text answer, e.g., \"11 january 1755\". You must use your ``KVMemNet``."
   ]
  },
  {
   "cell_type": "markdown",
   "metadata": {
    "id": "yiRYRlRhfFUG"
   },
   "source": [
    "**Suggestion:** To process a question you will probably want to find the entity and the relation. You may use packages such as [NLTK](https://www.nltk.org/) (already imported), [SpaCY](https://spacy.io/), [Stanza](https://stanfordnlp.github.io/stanza/), or other."
   ]
  },
  {
   "cell_type": "markdown",
   "metadata": {
    "id": "ofPVuNzWeIto"
   },
   "source": [
    "Change the question to test your implementation, but don't delete this cell."
   ]
  },
  {
   "cell_type": "code",
   "execution_count": 462,
   "metadata": {
    "id": "JQLNvGsfm3b3"
   },
   "outputs": [],
   "source": [
    "question = \"When was alexander hamilton born?\""
   ]
  },
  {
   "cell_type": "markdown",
   "metadata": {
    "id": "KGSewc7jeaj1"
   },
   "source": [
    "**Create your function for using the `KVMemNet` to answer a given question.**\n",
    "\n",
    "The function should take in the question, data, model, and any other parameters you need. The function should return a text string.\n",
    "\n",
    "You can create as many cells as necessary. Save the notebook cells showing one example of your input question and output answer. For grading we will look to see that your question is in natural language, the model is used, and the answer is in text. The example doesn't have to be correct. You will analyze your technique later in the report."
   ]
  },
  {
   "cell_type": "code",
   "execution_count": 463,
   "metadata": {
    "id": "sN0ZNtADTzDd"
   },
   "outputs": [],
   "source": [
    "# Create your functions here\n",
    "\n",
    "# Originally I only use pattern recognition/regex to search for relation and name.\n",
    "# Trying to implment nltk to help with tag and recognize name better\n",
    "# lower case is better for regex, but in pos_tag, keep the original question for Capital letter in name\n",
    "\n",
    "try:\n",
    "    nltk.data.find('tokenizers/punkt')\n",
    "    nltk.data.find('taggers/averaged_perceptron_tagger')\n",
    "    nltk.data.find('corpora/stopwords')\n",
    "except LookupError:\n",
    "    nltk.download('punkt')\n",
    "    nltk.download('averaged_perceptron_tagger')\n",
    "    nltk.download('stopwords')"
   ]
  },
  {
   "cell_type": "code",
   "execution_count": 464,
   "metadata": {},
   "outputs": [],
   "source": [
    "from nltk import word_tokenize, pos_tag\n",
    "from nltk.corpus import stopwords\n",
    "\n",
    "def extract_name_and_relation(question):\n",
    "    \"\"\"Extract person name and relation type from natural language question\"\"\"\n",
    "    question_lower = question.lower().strip()           # This is set up to use regex for relation, use original q for nltk\n",
    "    # print(question_lower)\n",
    "\n",
    "    # Collect  stop_word, common words with little meaningful content\n",
    "    stop_words = set(stopwords.words('english'))\n",
    "    \n",
    "    # Set up relation patterns\n",
    "    relation_patterns = {\n",
    "        'birth_date': [r'when.*born', r'birth.*date', r'date.*birth'],\n",
    "        'birth_place': [r'where.*born', r'birth.*place', r'place.*birth'],\n",
    "        'death_date': [r'when.*die', r'when.*died', r'death.*date', r'date.*death'],\n",
    "        'death_place': [r'where.*die', r'where.*died', r'death.*place', r'place.*death'],\n",
    "        'office': [r'what.*office', r'what.*position', r'what.*job', r'office', r'position'],\n",
    "        'party': [r'what.*party', r'political.*party', r'party'],\n",
    "        'spouse': [r'who.*married', r'who.*spouse', r'spouse', r'married.*to'],\n",
    "        'children': [r'who.*child', r'who.*children', r'sons', r'daughters',r'kids',r'how many.*children'],\n",
    "        'religion': [r'what.*religion', r'religion.*believe', r'faith', r'religious.*beliefs?', r'is.*religion']\n",
    "    }\n",
    "    \n",
    "    # Extract relation from question\n",
    "    result_relation = None\n",
    "    for relation, patterns in relation_patterns.items():\n",
    "        for pattern in patterns:\n",
    "            if re.search(pattern, question_lower):\n",
    "                result_relation = relation\n",
    "                break\n",
    "        if result_relation:\n",
    "            break\n",
    "    \n",
    "    # Name extraction using POS tags\n",
    "    tokens_question_extract = word_tokenize(question)\n",
    "    pos_tags = pos_tag(tokens_question_extract)\n",
    "    # print(pos_tags)\n",
    "    \n",
    "    # Extract name using the tag NNP\n",
    "    name_tokens = [word for word, tag in pos_tags if tag.startswith(\"NNP\") and word.lower() not in stop_words]\n",
    "    result_name = ' '.join(name_tokens) if name_tokens else None\n",
    "    result_name = result_name.lower().strip()           # convert back to lower becase DB name is lower case\n",
    "    \n",
    "    return result_name, result_relation\n"
   ]
  },
  {
   "cell_type": "code",
   "execution_count": 465,
   "metadata": {},
   "outputs": [],
   "source": [
    "def answer_question(question, model, vocab, DB, max_keys=30):\n",
    "    model.eval()\n",
    "\n",
    "    name, relation = extract_name_and_relation(question)\n",
    "    if not name:\n",
    "        return \"Could not extract person from the question.\"\n",
    "    if not relation:\n",
    "        return \"Could not extract relation from the question.\"\n",
    "    print(f\"person: {name}, relation: {relation} detected in question\")\n",
    "\n",
    "\n",
    "    # Get (key, value) pairs from DB\n",
    "    person_data = DB.get(name, {})\n",
    "    if not person_data:\n",
    "        return f\"No information found for '{name}'\"\n",
    "    if relation not in person_data:\n",
    "        return f\"No information found for relation '{relation}'\"\n",
    "\n",
    "    correct_value = person_data[relation]\n",
    "    correct_key = f\"{name} {relation}\"\n",
    "    # Create candidate keys/values pairs\n",
    "    keys = [correct_key]\n",
    "    values = [correct_value]\n",
    "\n",
    "    # Add random key/value from other people in the DB\n",
    "    for other_name, data in DB.items():\n",
    "        if other_name == name:\n",
    "            continue\n",
    "        if relation in data and data[relation] not in values:\n",
    "            random_key = f\"{other_name} {relation}\"\n",
    "            keys.append(random_key)\n",
    "            values.append(data[relation])\n",
    "        if len(keys) >= max_keys:\n",
    "            break\n",
    "    # print(keys)\n",
    "    # print(values)\n",
    "    # Process inputs\n",
    " \n",
    "    question_bow = multihot(question, vocab, preserve_counts=True)\n",
    "    question_vec = torch.FloatTensor(question_bow).unsqueeze(0).to(device)\n",
    "\n",
    "    # Convert the keys and value BOW\n",
    "    # Append and stack them into tensor\n",
    "    keys_bow = []\n",
    "    values_bow = []\n",
    "\n",
    "    for key in keys:\n",
    "        key_bow = multihot(key, vocab, preserve_counts=True)\n",
    "        keys_bow.append(torch.FloatTensor(key_bow))\n",
    "    for value in values:\n",
    "        value_bow = multihot(value, vocab, preserve_counts=True)\n",
    "        values_bow.append(torch.FloatTensor(value_bow))\n",
    "    key_vecs = torch.stack(keys_bow).unsqueeze(0).to(device)\n",
    "    value_vecs = torch.stack(values_bow).unsqueeze(0).to(device)\n",
    "\n",
    "    # Querry process\n",
    "    with torch.no_grad():\n",
    "        model_output = model(question_vec, key_vecs, value_vecs)\n",
    "\n",
    "        # Similar to C, embeding all values in the data, let it pass B layer and compute scores\n",
    "        flattened_values = torch.flatten(value_vecs, start_dim=0, end_dim=1)\n",
    "        value_embeddings = model.B(flattened_values)\n",
    "        value_embeddings = value_embeddings.reshape(value_vecs.size(0), value_vecs.size(1), -1)\n",
    "\n",
    "        scores = torch.bmm(model_output.unsqueeze(1), value_embeddings.transpose(1, 2)).squeeze(1)\n",
    "        _, pred_idx = torch.max(scores.data, dim=1)\n",
    "\n",
    "\n",
    "    # Print correct value and return predicted value\n",
    "    predicted_value = values[pred_idx.item()]\n",
    "    print(\"correct answer:\", correct_value)\n",
    "    return predicted_value\n",
    "\n"
   ]
  },
  {
   "cell_type": "code",
   "execution_count": 466,
   "metadata": {},
   "outputs": [
    {
     "name": "stdout",
     "output_type": "stream",
     "text": [
      "j. p. featherston\n",
      "jon tester\n",
      "emanuelis zingeris\n",
      "jean-marie le pen\n",
      "ma lik\n",
      "w. b. kinne\n",
      "antonio nariño\n",
      "chang nien-chung\n",
      "thomas claiborne -lrb- 1749 -- 1812 -rrb-\n",
      "qi jinli\n",
      "merrill i. mills\n",
      "wang guosheng -lrb- politician -rrb-\n",
      "thomas holliday hicks\n",
      "robert smith walker\n",
      "josiah carter\n",
      "pavol hrivnák\n",
      "h. m. fowler\n",
      "kala venkata rao\n",
      "mohammed al-ghabban\n",
      "ian khama\n",
      "joe lesage\n"
     ]
    }
   ],
   "source": [
    "# Print the first 20 person names in the DB\n",
    "for i, name in enumerate(DB.keys()):\n",
    "    print(name)\n",
    "    if i >= 20:\n",
    "        break"
   ]
  },
  {
   "cell_type": "code",
   "execution_count": 467,
   "metadata": {},
   "outputs": [
    {
     "name": "stdout",
     "output_type": "stream",
     "text": [
      "20 max keys\n",
      "Question: When was Alexander Hamilton born?\n",
      "person: alexander hamilton, relation: birth_date detected in question\n",
      "correct answer: 11 january 1755\n",
      "Answer: 11 january 1755\n",
      "40 max keys\n",
      "Question: When was Alexander Hamilton born?\n",
      "person: alexander hamilton, relation: birth_date detected in question\n",
      "correct answer: 11 january 1755\n",
      "Answer: 06 february 1956\n",
      "100 max keys\n",
      "Question: When was Alexander Hamilton born?\n",
      "person: alexander hamilton, relation: birth_date detected in question\n",
      "correct answer: 11 january 1755\n",
      "Answer: 06 february 1956\n",
      "1000 max keys\n",
      "Question: When was Alexander Hamilton born?\n",
      "person: alexander hamilton, relation: birth_date detected in question\n",
      "correct answer: 11 january 1755\n",
      "Answer: yes 1964\n"
     ]
    }
   ],
   "source": [
    "question = \"When was Alexander Hamilton born?\"\n",
    "print(f\"20 max keys\")\n",
    "print(\"Question:\", question)\n",
    "answer = answer_question(question, model, VOCAB, DB,max_keys=20)\n",
    "print(\"Answer:\", answer)\n",
    "\n",
    "print(f\"40 max keys\")\n",
    "print(\"Question:\", question)\n",
    "answer = answer_question(question, model, VOCAB, DB,max_keys=40)\n",
    "print(\"Answer:\", answer)\n",
    "\n",
    "print(f\"100 max keys\")\n",
    "print(\"Question:\", question)\n",
    "answer = answer_question(question, model, VOCAB, DB,max_keys=100)\n",
    "print(\"Answer:\", answer)\n",
    "\n",
    "print(f\"1000 max keys\")\n",
    "print(\"Question:\", question)\n",
    "answer = answer_question(question, model, VOCAB, DB,max_keys=1000)\n",
    "print(\"Answer:\", answer)"
   ]
  },
  {
   "cell_type": "code",
   "execution_count": 468,
   "metadata": {},
   "outputs": [
    {
     "name": "stdout",
     "output_type": "stream",
     "text": [
      "20 max keys\n",
      "Question: Do Alexander Hamilton have kids?\n",
      "person: alexander hamilton, relation: children detected in question\n",
      "correct answer: philip angelica alexander james alexander john church william stephen eliza holly phil\n",
      "Answer: nicholas emily gabriel\n",
      "40 max keys\n",
      "Question: Do Alexander Hamilton have kids?\n",
      "person: alexander hamilton, relation: children detected in question\n",
      "correct answer: philip angelica alexander james alexander john church william stephen eliza holly phil\n",
      "Answer: henry with sophia mary with sophia william with sophia howell with sophia elizabeth with mary louise with mary hardind with mary\n",
      "100 max keys\n",
      "Question: Do Alexander Hamilton have kids?\n",
      "person: alexander hamilton, relation: children detected in question\n",
      "correct answer: philip angelica alexander james alexander john church william stephen eliza holly phil\n",
      "Answer: four\n",
      "1000 max keys\n",
      "Question: Do Alexander Hamilton have kids?\n",
      "person: alexander hamilton, relation: children detected in question\n",
      "correct answer: philip angelica alexander james alexander john church william stephen eliza holly phil\n",
      "Answer: violet o liu emmett o liu\n"
     ]
    }
   ],
   "source": [
    "question = \"Do Alexander Hamilton have kids?\"\n",
    "print(f\"20 max keys\")\n",
    "print(\"Question:\", question)\n",
    "answer = answer_question(question, model, VOCAB, DB,max_keys=20)\n",
    "print(\"Answer:\", answer)\n",
    "\n",
    "print(f\"40 max keys\")\n",
    "print(\"Question:\", question)\n",
    "answer = answer_question(question, model, VOCAB, DB,max_keys=40)\n",
    "print(\"Answer:\", answer)\n",
    "\n",
    "print(f\"100 max keys\")\n",
    "print(\"Question:\", question)\n",
    "answer = answer_question(question, model, VOCAB, DB,max_keys=100)\n",
    "print(\"Answer:\", answer)\n",
    "\n",
    "print(f\"1000 max keys\")\n",
    "print(\"Question:\", question)\n",
    "answer = answer_question(question, model, VOCAB, DB,max_keys=1000)\n",
    "print(\"Answer:\", answer)"
   ]
  },
  {
   "cell_type": "code",
   "execution_count": 469,
   "metadata": {},
   "outputs": [
    {
     "name": "stdout",
     "output_type": "stream",
     "text": [
      "Question: When was Ma Lik born?\n",
      "person: lik, relation: birth_date detected in question\n",
      "Answer: No information found for 'lik'\n"
     ]
    }
   ],
   "source": [
    "question = \"When was Ma Lik born?\"\n",
    "print(\"Question:\", question)\n",
    "answer = answer_question(question, model, VOCAB, DB,max_keys=10)\n",
    "print(\"Answer:\", answer)\n"
   ]
  },
  {
   "cell_type": "code",
   "execution_count": 470,
   "metadata": {},
   "outputs": [
    {
     "name": "stdout",
     "output_type": "stream",
     "text": [
      "20 max keys\n",
      "Question: When was Robert Smith Walker born?\n",
      "person: robert smith walker, relation: birth_date detected in question\n",
      "correct answer: 23 december 1942\n",
      "Answer: 23 december 1942\n",
      "40 max keys\n",
      "Question: When was Robert Smith Walker born?\n",
      "person: robert smith walker, relation: birth_date detected in question\n",
      "correct answer: 23 december 1942\n",
      "Answer: 23 december 1942\n",
      "100 max keys\n",
      "Question: When was Robert Smith Walker born?\n",
      "person: robert smith walker, relation: birth_date detected in question\n",
      "correct answer: 23 december 1942\n",
      "Answer: 23 december 1942\n",
      "1000 max keys\n",
      "Question: When was Robert Smith Walker born?\n",
      "person: robert smith walker, relation: birth_date detected in question\n",
      "correct answer: 23 december 1942\n",
      "Answer: 02 september 1956\n"
     ]
    }
   ],
   "source": [
    "question = \"When was Robert Smith Walker born?\"\n",
    "print(f\"20 max keys\")\n",
    "print(\"Question:\", question)\n",
    "answer = answer_question(question, model, VOCAB, DB,max_keys=20)\n",
    "print(\"Answer:\", answer)\n",
    "\n",
    "print(f\"40 max keys\")\n",
    "print(\"Question:\", question)\n",
    "answer = answer_question(question, model, VOCAB, DB,max_keys=40)\n",
    "print(\"Answer:\", answer)\n",
    "\n",
    "print(f\"100 max keys\")\n",
    "print(\"Question:\", question)\n",
    "answer = answer_question(question, model, VOCAB, DB,max_keys=100)\n",
    "print(\"Answer:\", answer)\n",
    "\n",
    "print(f\"1000 max keys\")\n",
    "print(\"Question:\", question)\n",
    "answer = answer_question(question, model, VOCAB, DB,max_keys=1000)\n",
    "print(\"Answer:\", answer)"
   ]
  },
  {
   "cell_type": "code",
   "execution_count": 471,
   "metadata": {},
   "outputs": [
    {
     "name": "stdout",
     "output_type": "stream",
     "text": [
      "20 max keys\n",
      "Question: Where was Robert Smith Walker born?\n",
      "person: robert smith walker, relation: birth_place detected in question\n",
      "correct answer: bradford pennsylvania\n",
      "Answer: bradford pennsylvania\n",
      "40 max keys\n",
      "Question: Where was Robert Smith Walker born?\n",
      "person: robert smith walker, relation: birth_place detected in question\n",
      "correct answer: bradford pennsylvania\n",
      "Answer: bradford pennsylvania\n",
      "100 max keys\n",
      "Question: Where was Robert Smith Walker born?\n",
      "person: robert smith walker, relation: birth_place detected in question\n",
      "correct answer: bradford pennsylvania\n",
      "Answer: bradford pennsylvania\n",
      "1000 max keys\n",
      "Question: Where was Robert Smith Walker born?\n",
      "person: robert smith walker, relation: birth_place detected in question\n",
      "correct answer: bradford pennsylvania\n",
      "Answer: lice diyarbakır province turkey\n"
     ]
    }
   ],
   "source": [
    "question = \"Where was Robert Smith Walker born?\"\n",
    "print(f\"20 max keys\")\n",
    "print(\"Question:\", question)\n",
    "answer = answer_question(question, model, VOCAB, DB,max_keys=20)\n",
    "print(\"Answer:\", answer)\n",
    "\n",
    "print(f\"40 max keys\")\n",
    "print(\"Question:\", question)\n",
    "answer = answer_question(question, model, VOCAB, DB,max_keys=40)\n",
    "print(\"Answer:\", answer)\n",
    "\n",
    "print(f\"100 max keys\")\n",
    "print(\"Question:\", question)\n",
    "answer = answer_question(question, model, VOCAB, DB,max_keys=100)\n",
    "print(\"Answer:\", answer)\n",
    "\n",
    "print(f\"1000 max keys\")\n",
    "print(\"Question:\", question)\n",
    "answer = answer_question(question, model, VOCAB, DB,max_keys=1000)\n",
    "print(\"Answer:\", answer)"
   ]
  },
  {
   "cell_type": "code",
   "execution_count": 472,
   "metadata": {},
   "outputs": [
    {
     "name": "stdout",
     "output_type": "stream",
     "text": [
      "20 max keys\n",
      "Question: What is Robert Smith Walker office?\n",
      "person: robert smith walker, relation: office detected in question\n",
      "correct answer: republican chief deputy whip of the united states house of representatives\n",
      "Answer: governor of hubei\n",
      "40 max keys\n",
      "Question: What is Robert Smith Walker office?\n",
      "person: robert smith walker, relation: office detected in question\n",
      "correct answer: republican chief deputy whip of the united states house of representatives\n",
      "Answer: president of botswana vice president of botswana\n",
      "100 max keys\n",
      "Question: What is Robert Smith Walker office?\n",
      "person: robert smith walker, relation: office detected in question\n",
      "correct answer: republican chief deputy whip of the united states house of representatives\n",
      "Answer: permanent representative of nepal to the united nations permanent secretary of the ministry of foreign affairs\n",
      "1000 max keys\n",
      "Question: What is Robert Smith Walker office?\n",
      "person: robert smith walker, relation: office detected in question\n",
      "correct answer: republican chief deputy whip of the united states house of representatives\n",
      "Answer: minister of internal affairs of georgia minister of defense of georgia\n"
     ]
    }
   ],
   "source": [
    "question = \"What is Robert Smith Walker office?\"\n",
    "print(f\"20 max keys\")\n",
    "print(\"Question:\", question)\n",
    "answer = answer_question(question, model, VOCAB, DB,max_keys=20)\n",
    "print(\"Answer:\", answer)\n",
    "\n",
    "print(f\"40 max keys\")\n",
    "print(\"Question:\", question)\n",
    "answer = answer_question(question, model, VOCAB, DB,max_keys=40)\n",
    "print(\"Answer:\", answer)\n",
    "\n",
    "print(f\"100 max keys\")\n",
    "print(\"Question:\", question)\n",
    "answer = answer_question(question, model, VOCAB, DB,max_keys=100)\n",
    "print(\"Answer:\", answer)\n",
    "\n",
    "print(f\"1000 max keys\")\n",
    "print(\"Question:\", question)\n",
    "answer = answer_question(question, model, VOCAB, DB,max_keys=1000)\n",
    "print(\"Answer:\", answer)"
   ]
  },
  {
   "cell_type": "code",
   "execution_count": 473,
   "metadata": {},
   "outputs": [
    {
     "name": "stdout",
     "output_type": "stream",
     "text": [
      "20 max keys\n",
      "Question: Who was Alexander Hamilton spouse?\n",
      "person: alexander hamilton, relation: spouse detected in question\n",
      "correct answer: elizabeth schuyler\n",
      "Answer: elizabeth schuyler\n",
      "40 max keys\n",
      "Question: Who was Alexander Hamilton spouse?\n",
      "person: alexander hamilton, relation: spouse detected in question\n",
      "correct answer: elizabeth schuyler\n",
      "Answer: dr patricia o\n",
      "100 max keys\n",
      "Question: Who was Alexander Hamilton spouse?\n",
      "person: alexander hamilton, relation: spouse detected in question\n",
      "correct answer: elizabeth schuyler\n",
      "Answer: linda\n",
      "1000 max keys\n",
      "Question: Who was Alexander Hamilton spouse?\n",
      "person: alexander hamilton, relation: spouse detected in question\n",
      "correct answer: elizabeth schuyler\n",
      "Answer: elizabeth villiers\n"
     ]
    }
   ],
   "source": [
    "question = \"Who was Alexander Hamilton spouse?\"\n",
    "print(f\"20 max keys\")\n",
    "print(\"Question:\", question)\n",
    "answer = answer_question(question, model, VOCAB, DB,max_keys=20)\n",
    "print(\"Answer:\", answer)\n",
    "\n",
    "print(f\"40 max keys\")\n",
    "print(\"Question:\", question)\n",
    "answer = answer_question(question, model, VOCAB, DB,max_keys=40)\n",
    "print(\"Answer:\", answer)\n",
    "\n",
    "print(f\"100 max keys\")\n",
    "print(\"Question:\", question)\n",
    "answer = answer_question(question, model, VOCAB, DB,max_keys=100)\n",
    "print(\"Answer:\", answer)\n",
    "\n",
    "print(f\"1000 max keys\")\n",
    "print(\"Question:\", question)\n",
    "answer = answer_question(question, model, VOCAB, DB,max_keys=1000)\n",
    "print(\"Answer:\", answer)"
   ]
  },
  {
   "cell_type": "code",
   "execution_count": 474,
   "metadata": {},
   "outputs": [
    {
     "name": "stdout",
     "output_type": "stream",
     "text": [
      "20 max keys\n",
      "Question: What is Alexander Hamilton religion?\n",
      "person: alexander hamilton, relation: religion detected in question\n",
      "correct answer: presbyterian episcopalian convert\n",
      "Answer: christianity presbyterian\n"
     ]
    }
   ],
   "source": [
    "question = \"What is Alexander Hamilton religion?\"\n",
    "print(f\"20 max keys\")\n",
    "print(\"Question:\", question)\n",
    "answer = answer_question(question, model, VOCAB, DB,max_keys=20)\n",
    "print(\"Answer:\", answer)\n"
   ]
  },
  {
   "cell_type": "code",
   "execution_count": 475,
   "metadata": {},
   "outputs": [
    {
     "name": "stdout",
     "output_type": "stream",
     "text": [
      "20 max keys\n",
      "Question: Did Alexander Hamilton have any kid?\n",
      "Answer: Could not extract relation from the question.\n"
     ]
    }
   ],
   "source": [
    "question = \"Did Alexander Hamilton have any kid?\"\n",
    "print(f\"20 max keys\")\n",
    "print(\"Question:\", question)\n",
    "answer = answer_question(question, model, VOCAB, DB,max_keys=20)\n",
    "print(\"Answer:\", answer)"
   ]
  },
  {
   "cell_type": "code",
   "execution_count": 477,
   "metadata": {},
   "outputs": [
    {
     "name": "stdout",
     "output_type": "stream",
     "text": [
      "20 max keys\n",
      "Question: Did Alexander-Hamilton have any kids?\n",
      "person: alexander-hamilton, relation: children detected in question\n",
      "Answer: No information found for 'alexander-hamilton'\n"
     ]
    }
   ],
   "source": [
    "question = \"Did Alexander-Hamilton have any kids?\"\n",
    "print(f\"20 max keys\")\n",
    "print(\"Question:\", question)\n",
    "answer = answer_question(question, model, VOCAB, DB,max_keys=20)\n",
    "print(\"Answer:\", answer)"
   ]
  },
  {
   "cell_type": "markdown",
   "metadata": {},
   "source": [
    "\n",
    "Remark: I tested with multiple max_keys, the numbers of key,value pair added to the querry to make it challenging. With max_keys below <= 20, the prediction is great 50-70%. Increasing max_key above 30, the accuracy start dropping"
   ]
  },
  {
   "cell_type": "markdown",
   "metadata": {
    "id": "N27-OtrzpT-u"
   },
   "source": [
    "# Part F: Reporting (15 points)\n",
    "\n",
    "Your report should answer the following three questions:\n",
    "\n",
    " **Q1:** What pre-processing of the data did you do? What motivated the design decisions and how did it impact training and any processing of natural language questions (Parts A and D)?\n",
    "\n",
    " Hint: This should help one understand any code modifications you made in Parts A and the first part of Part D. But you shouldn't use this to document your code (hopefully you commented your code with code comments and text cells above), but to justify your choices as well as to explain what worked and what didn't work.\n",
    "\n",
    " **Q2:** Report on your training on the real data (Part D). Show your loss curve and report on the testing accuracy. There are many ways to implement the training loop, particularly with the choice of keys and values. What decisions did you make when developing your training loop? Justify your decisions. How did they impact the training?\n",
    "\n",
    " Hint: This assignment doesn't grade you on how well your model learns---your solution will not be perfect. We focus more on how you worked through the process. This part of the report should show how well your solution worked, but also the intuition for why it works, and to document the things you tried that didn't work.\n",
    "\n",
    " **Q3:** Describe your technique on how you process natural language questions (Part E). Provide some examples of your technique answering questions correctly and some examples of your technique answering questions incorrectly. Discuss what causes the failure cases.\n",
    "\n",
    " Hint: You are not penalized for incorrectly answered questions---your model will not be perfect---we are looking for honest reflection. Preferably, show the example as code blocks running your model with notebook outputs saved.\n",
    "\n",
    " We have provided three prompts below. You can create as many text and code cells as necessary.\n",
    " \n",
    " --------------------------------------------------------------------------"
   ]
  },
  {
   "cell_type": "markdown",
   "metadata": {
    "id": "V8dovCuyuEvL"
   },
   "source": [
    "**Q1: Report on Data Pre-processing**"
   ]
  },
  {
   "cell_type": "markdown",
   "metadata": {
    "id": "2qhr3QwvuLBQ"
   },
   "source": [
    "### The original notebook and instruction has proposed an usable pipeline to handle the data. The synthetic data was good until part C. The process is straight forward, we build up a database vocabulary, tokenize database information, understaing the structure of training data which is a triple tensor of question, keys, and values. The following are key pre-processing improvement of the data I impplement and improve in Part A and Part D:\n",
    "#### 1. Reduce vocabulary: \n",
    "Using the reduced vocab function from original code and instruction, I attempt to use a reduced vocab size to remove words that are less meaningful in the library. This was done by filtering out words that appear fewer than 3 times in the VOCAB, reducing from 96k to 47k words (50% reduction). This make the traning much more computaionally feasible while retain most important words in the library.\n",
    "#### 2. Enhanced mulhihot() function\n",
    "Based on suggestion on the notebook we revised the multihot encoding function to handle unknown words, these are words that are out of vocabulary. Because we used reduced vocabulary, there will be more OOV words so and handle it is necessary. This enable a robust processing data using reduced vocab. \n",
    "#### 3. Reduce relations to most common ones.\n",
    "When creating dataset in part D, we limit relations to only 9 most common relation based on common sense. It reduced the dataset complexity and focus more to consistent relations. Some relations are rare so filter them out make training more efficient. The impact is that learning task are more focused on biographical information and training is more efficient.\n",
    "#### 4. Preserve Word counts in Bag of Words\n",
    "So instead of focusing on presence we turn preserve word counts = true to maintain word frequency information to give more weights on important words. Frequent words provide richer semantic information than just word presence. The impact might be better capturing of semantic nuances.\n",
    "\n",
    "The overall impact on training is that memory usage is more efficient, oov words handle prevent crashing. Focusing on common relations helps the model converge faster. Training speed also faster in part D. This also provide a pipeline to process natural language question in part E.\n",
    "\n",
    "\n",
    "### Acknowledge limitation: \n",
    "Aggressive reduced vocabulary may lost rare but meaning words. We have to do it because of limited timing. Domain restriction limit questions on part E when some questions can be answered because relation in the question is not in the domain.\n",
    "\n",
    "---------------------------------------------------------------------------------------\n",
    "\n",
    "\n"
   ]
  },
  {
   "cell_type": "markdown",
   "metadata": {
    "id": "3VBW1vSduN4U"
   },
   "source": [
    "**Q2: Report on Training and Testing**"
   ]
  },
  {
   "cell_type": "markdown",
   "metadata": {
    "id": "PT_9MtT2uQ7I"
   },
   "source": [
    "**Model Config and Training**\n",
    "Our reduced vocab size is 47,085. On our training dataset, we limit the people on the list to 40,786. Limit the training data to only 8000 samples and 2000 testing sample.\n",
    "Initially we start with learning rate of 0.0005 but decide to improve with StepLR scheduler to start lr at 0.001 and reduced by half every 3 epochs to help the model learn faster from the begining.\n",
    "Our embedding dimension is 128. Batch size of 16, epoch of 15 and optimizer Adam.\n",
    "\n",
    "**Part D: Data creation**\n",
    "In part D, following the instruction notes and video instruction, we created simple question by concat (name + common relation). Initially we set up the key equal to just name but imrove it by including both name and relation in the key. To prevent overfitting and create challenging for the learner, we randomly select a 'max_keys' number of key,values pairs to add to each querry. For simplicity, we set the correct (key,value) answer to the top, and randomly generate the rest of (key,value) from the database. We observe that higher max_keys makes the learning process more challenging and computational but generalize better. Starting from max_key of 10, we increase it to max_keys 30 in our final run. A querry will have 1 correct (key,value) answer and 29 wrong (key,value) served as distractors. Batching help our model train faster, without it, we wont be able to train more than 10 max_keys in feasiable amount of time.\n",
    "\n",
    "#### Data process and training loop\n",
    "For each epoch, with 8000 samples split into 500 batches of 16 sample each.\n",
    "One each sample, the data consist of 4 elements, question, key, values, and target.\n",
    "The question are generated based on name and relation. We set up the key using the person name and relation as well. Each key are coressponding to a values.\n",
    "For each question, we generate 30 (keys,values) pairs with only 1 correct answer and 29 distractors. By putting the correct answer on index 0, we always select the target element as correct (key,value) pair.\n",
    "\n",
    "The training is bacically using the same KVMnet in part C. Where q,k,v are forward pass through the A layer. All values are embedded and went through B layer where we use to calculate similarity scores with the output from A layer. Finally loss are calculated using CrossEntryLoss with the target.\n",
    "\n",
    "#### Result\n",
    "Our training process show consistent result. With each epoch running 500 batches. With accuracy ramp up from the beginning as expected of StepLR.\n",
    "Epoch 1/15 - Loss: 2.84, Accuracy: 0.12\n",
    "\n",
    "Epoch 2/15 - Loss: 2.22, Accuracy: 0.31\n",
    "\n",
    "Epoch 3/15 - Loss: 1.40, Accuracy: 0.63\n",
    "\n",
    "...\n",
    "\n",
    "Epoch 15/15 - Loss: 0.22, Accuracy: 0.98\n",
    "\n",
    "Our loss curve show consistent downward trend and converging, indicating sucessful learning without obvious overfitting. The graph shows that the model start converging after 10 epoch, which we can stop early but do not have time to do so.\n",
    "When testing on 2000 samples. Our valuation show accuracy of 75%, which is high enough, indicating that training is successful without overfitting.\n",
    "\n",
    "Over the course of training we have implement multiple improvement and the following are what work well:\n",
    "* Batching help to utilize GPU, reduce training time and improve training efficiency.\n",
    "* The key-value random selection approach introduce significant amount of distractors. This taught the model to distinguish between relevant and irrelevant information.\n",
    "* Attention mechanism and used of cross entropy loss help the model learned attention patterns, improve accuracy.\n",
    "* The reduced dataset help training the model more feasiable given limit amount of time.\n",
    "\n",
    "#### Limitation\n",
    "The model is running on reduced vocab and dataset, so even though it generalize well within the reduced dataset. It does not general well in the full data. The reason for this is probably by reducing vocab, we omit rare but important words. We also limit the relation to common ones which makes model perform not well not other rare relations. In part E, we will test it with real questions and people from all the dataset.\n",
    "We also realized that by putting the correct answer on index 0, it simplify our data creation process but it also introduce positional bias.\n"
   ]
  },
  {
   "cell_type": "code",
   "execution_count": 461,
   "metadata": {},
   "outputs": [
    {
     "data": {
      "image/png": "[encoded data removed]",
      "text/plain": [
       "<Figure size 600x400 with 1 Axes>"
      ]
     },
     "metadata": {},
     "output_type": "display_data"
    },
    {
     "data": {
      "image/png": "[encoded data removed]",
      "text/plain": [
       "<Figure size 600x400 with 1 Axes>"
      ]
     },
     "metadata": {},
     "output_type": "display_data"
    }
   ],
   "source": [
    "# Plot training loss\n",
    "plt.figure(figsize=(6, 4))\n",
    "plt.plot(range(1, len(train_losses) + 1), train_losses, 'b-', marker='o')\n",
    "plt.title('Loss Curve on reduced dataset')\n",
    "plt.xlabel('Epoch')\n",
    "plt.ylabel('Average Loss')\n",
    "plt.grid(True)\n",
    "plt.show()\n",
    "\n",
    "# Plot training accuracy\n",
    "plt.figure(figsize=(6, 4))\n",
    "plt.plot(range(1, len(train_accuracy) + 1), train_accuracy, 'r-', marker='o')\n",
    "plt.title('Training Accuracy on reduced dataset')\n",
    "plt.xlabel('Epoch')\n",
    "plt.ylabel('Accuracy')\n",
    "plt.grid(True)\n",
    "plt.show()"
   ]
  },
  {
   "cell_type": "markdown",
   "metadata": {
    "id": "d6YimJ0KuScb"
   },
   "source": [
    "_______________________________________________________________________\n",
    "**Q3: Report on Model Use**"
   ]
  },
  {
   "cell_type": "markdown",
   "metadata": {
    "id": "j1majVIPuVEP"
   },
   "source": [
    "#### Technical Approach:\n",
    "\n",
    "**Person and relation extraction:**\n",
    "\n",
    "We use regular patterns to identify relation type (birth_date, spouse, etc.). Originally, this seem to works but it sometime does not catch name or select non-important words. Based on the suggested note, we use NLTK package to filtering out unimportant words using stopwords. And use the tokenize and taging from NLTK to distinguish noun, verb and name. NLTK seem to capture the person name better.\n",
    "For relation itentification, we still rely on regex and acknowledge that the patterns are limited on what we defined, it will not generalize well on unknown patterns.\n",
    "\n",
    "We use multiple differnt max_keys aka introduce different numbers of distractors, wrong answer to the test to see how the model handle. Because the model was trained with 30 max_keys, it seem to handle question with 30 or less distractors. With higher distractor like over 100, the model structure, which is understandable. There is certain level of generalization achieve here as the model can handle slighly higher max_keys numbers.\n",
    "\n",
    "**Results**\n",
    "Please refer to part E for our test case. Our extraction method seem doing good enough. The model is able to capture name and relation correctly if it is simple and obvious. With harder or complex sentence, it will struggle.\n",
    "For example it cannot capture complex name or name that include different pattern like alexander-hamilton. It have hard time capture non-English name like Ma Lik. This makes sense because our model is trained in English vocabulary.\n",
    "For rare relation, like religion, it also struggle with correct answer.\n",
    "For common relation like bio info that almost everyone has in the data like birth_date, birth_place, etc. it generally do well. In fact, even when increase max_keys to make it more challenging, it can still select the correct answer indicating certain level of generalization achieved.\n",
    "\n",
    "**Limitation**\n",
    "Overall, our model achieve 'not too bad' performance, but it clearly could been improved. First is we can extend our vocabulary and training on full dataset instead of reduced one.\n",
    "Improve the person and relation extractor to better capture relevant and important information from the question/querry.\n",
    "When creating question for training process, we could introduce more complex question and diverse question formats. The current one is too simple.\n",
    "In training process, we can try to alleviate position bias by swap the correct answer position.\n",
    "\n",
    "\n",
    "\n",
    "\n",
    "\n"
   ]
  },
  {
   "cell_type": "markdown",
   "metadata": {},
   "source": []
  }
 ],
 "metadata": {
  "accelerator": "GPU",
  "colab": {
   "machine_shape": "hm",
   "provenance": []
  },
  "gpuClass": "standard",
  "kernelspec": {
   "display_name": "cs7650_HW",
   "language": "python",
   "name": "python3"
  },
  "language_info": {
   "codemirror_mode": {
    "name": "ipython",
    "version": 3
   },
   "file_extension": ".py",
   "mimetype": "text/x-python",
   "name": "python",
   "nbconvert_exporter": "python",
   "pygments_lexer": "ipython3",
   "version": "3.10.16"
  }
 },
 "nbformat": 4,
 "nbformat_minor": 0
}
